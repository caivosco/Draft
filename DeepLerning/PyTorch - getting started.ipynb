{
 "cells": [
  {
   "cell_type": "code",
   "execution_count": 1,
   "metadata": {},
   "outputs": [],
   "source": [
    "from __future__ import print_function"
   ]
  },
  {
   "cell_type": "code",
   "execution_count": 2,
   "metadata": {},
   "outputs": [],
   "source": [
    "import torch"
   ]
  },
  {
   "cell_type": "code",
   "execution_count": 11,
   "metadata": {},
   "outputs": [],
   "source": [
    "x = torch.empty(5,3) # a matrix uninitialized"
   ]
  },
  {
   "cell_type": "code",
   "execution_count": 12,
   "metadata": {},
   "outputs": [
    {
     "data": {
      "text/plain": [
       "tensor([[ 6.6900e-37,  0.0000e+00,  0.0000e+00],\n",
       "        [ 0.0000e+00,  0.0000e+00,  9.8091e-45],\n",
       "        [ 2.2792e+30,  4.5835e-41,  0.0000e+00],\n",
       "        [ 0.0000e+00,  4.6243e-44,  0.0000e+00],\n",
       "        [-5.5483e-21,  4.5835e-41,  6.6559e-37]])"
      ]
     },
     "execution_count": 12,
     "metadata": {},
     "output_type": "execute_result"
    }
   ],
   "source": [
    "x"
   ]
  },
  {
   "cell_type": "code",
   "execution_count": 5,
   "metadata": {},
   "outputs": [
    {
     "data": {
      "text/plain": [
       "tensor([[-5.5483e-21,  4.5835e-41,  6.4434e-37],\n",
       "        [ 0.0000e+00,  1.5304e-38,  0.0000e+00],\n",
       "        [ 1.5310e-38,  0.0000e+00,  1.5310e-38],\n",
       "        [ 0.0000e+00,  1.5301e-38,  0.0000e+00],\n",
       "        [ 1.5302e-38,  0.0000e+00,  2.6587e+36]])"
      ]
     },
     "execution_count": 5,
     "metadata": {},
     "output_type": "execute_result"
    }
   ],
   "source": [
    "x"
   ]
  },
  {
   "cell_type": "code",
   "execution_count": 9,
   "metadata": {},
   "outputs": [],
   "source": [
    "x = torch.rand(5,3) # a randomly initialized matrix "
   ]
  },
  {
   "cell_type": "code",
   "execution_count": 10,
   "metadata": {},
   "outputs": [
    {
     "data": {
      "text/plain": [
       "tensor([[ 0.0727,  0.4864,  0.7949],\n",
       "        [ 0.0121,  0.0622,  0.2173],\n",
       "        [ 0.1046,  0.1273,  0.2423],\n",
       "        [ 0.9699,  0.7599,  0.8353],\n",
       "        [ 0.9667,  0.4146,  0.5513]])"
      ]
     },
     "execution_count": 10,
     "metadata": {},
     "output_type": "execute_result"
    }
   ],
   "source": [
    "x"
   ]
  },
  {
   "cell_type": "code",
   "execution_count": 8,
   "metadata": {},
   "outputs": [
    {
     "data": {
      "text/plain": [
       "tensor([[ 0.2267,  0.5817,  0.4705],\n",
       "        [ 0.9847,  0.0536,  0.8254],\n",
       "        [ 0.3323,  0.1104,  0.7726],\n",
       "        [ 0.8145,  0.5537,  0.7712],\n",
       "        [ 0.8631,  0.3790,  0.5079]])"
      ]
     },
     "execution_count": 8,
     "metadata": {},
     "output_type": "execute_result"
    }
   ],
   "source": [
    "x"
   ]
  },
  {
   "cell_type": "code",
   "execution_count": 13,
   "metadata": {},
   "outputs": [],
   "source": [
    "x = torch.zeros(5,3) # a matrix filled zeros"
   ]
  },
  {
   "cell_type": "code",
   "execution_count": 14,
   "metadata": {},
   "outputs": [
    {
     "data": {
      "text/plain": [
       "tensor([[ 0.,  0.,  0.],\n",
       "        [ 0.,  0.,  0.],\n",
       "        [ 0.,  0.,  0.],\n",
       "        [ 0.,  0.,  0.],\n",
       "        [ 0.,  0.,  0.]])"
      ]
     },
     "execution_count": 14,
     "metadata": {},
     "output_type": "execute_result"
    }
   ],
   "source": [
    "x"
   ]
  },
  {
   "cell_type": "code",
   "execution_count": 15,
   "metadata": {},
   "outputs": [],
   "source": [
    "x = torch.tensor([1,2,3]) # constructing a tensor directly from data"
   ]
  },
  {
   "cell_type": "code",
   "execution_count": 16,
   "metadata": {},
   "outputs": [
    {
     "data": {
      "text/plain": [
       "tensor([ 1,  2,  3])"
      ]
     },
     "execution_count": 16,
     "metadata": {},
     "output_type": "execute_result"
    }
   ],
   "source": [
    "x"
   ]
  },
  {
   "cell_type": "code",
   "execution_count": 17,
   "metadata": {},
   "outputs": [],
   "source": [
    "y = x.new_ones(5,3, dtype=torch.double) # REUSING other tensor "
   ]
  },
  {
   "cell_type": "code",
   "execution_count": 18,
   "metadata": {},
   "outputs": [
    {
     "data": {
      "text/plain": [
       "tensor([[ 1.,  1.,  1.],\n",
       "        [ 1.,  1.,  1.],\n",
       "        [ 1.,  1.,  1.],\n",
       "        [ 1.,  1.,  1.],\n",
       "        [ 1.,  1.,  1.]], dtype=torch.float64)"
      ]
     },
     "execution_count": 18,
     "metadata": {},
     "output_type": "execute_result"
    }
   ],
   "source": [
    "y"
   ]
  },
  {
   "cell_type": "code",
   "execution_count": 19,
   "metadata": {},
   "outputs": [],
   "source": [
    "z = torch.rand_like(x, dtype=torch.float64) # use x like a template "
   ]
  },
  {
   "cell_type": "code",
   "execution_count": 20,
   "metadata": {},
   "outputs": [
    {
     "data": {
      "text/plain": [
       "tensor([ 0.1084,  0.5110,  0.6447], dtype=torch.float64)"
      ]
     },
     "execution_count": 20,
     "metadata": {},
     "output_type": "execute_result"
    }
   ],
   "source": [
    "z"
   ]
  },
  {
   "cell_type": "code",
   "execution_count": 21,
   "metadata": {},
   "outputs": [
    {
     "data": {
      "text/plain": [
       "tensor([ 1,  2,  3])"
      ]
     },
     "execution_count": 21,
     "metadata": {},
     "output_type": "execute_result"
    }
   ],
   "source": [
    "x"
   ]
  },
  {
   "cell_type": "code",
   "execution_count": 23,
   "metadata": {},
   "outputs": [
    {
     "data": {
      "text/plain": [
       "(1, torch.Size([3]), torch.int64, torch.Size([3]))"
      ]
     },
     "execution_count": 23,
     "metadata": {},
     "output_type": "execute_result"
    }
   ],
   "source": [
    "x.ndimension(), x.shape, x.dtype, x.size()"
   ]
  },
  {
   "cell_type": "code",
   "execution_count": 25,
   "metadata": {},
   "outputs": [
    {
     "data": {
      "text/plain": [
       "torch.Size"
      ]
     },
     "execution_count": 25,
     "metadata": {},
     "output_type": "execute_result"
    }
   ],
   "source": [
    "type(x.size())"
   ]
  },
  {
   "cell_type": "code",
   "execution_count": 26,
   "metadata": {},
   "outputs": [
    {
     "data": {
      "text/plain": [
       "tensor([ 1,  2,  3])"
      ]
     },
     "execution_count": 26,
     "metadata": {},
     "output_type": "execute_result"
    }
   ],
   "source": [
    "x"
   ]
  },
  {
   "cell_type": "code",
   "execution_count": 27,
   "metadata": {},
   "outputs": [],
   "source": [
    "y = torch.tensor([10,20,30])"
   ]
  },
  {
   "cell_type": "code",
   "execution_count": 28,
   "metadata": {},
   "outputs": [
    {
     "data": {
      "text/plain": [
       "tensor([ 10,  20,  30])"
      ]
     },
     "execution_count": 28,
     "metadata": {},
     "output_type": "execute_result"
    }
   ],
   "source": [
    "y"
   ]
  },
  {
   "cell_type": "code",
   "execution_count": 29,
   "metadata": {},
   "outputs": [
    {
     "data": {
      "text/plain": [
       "tensor([ 11,  22,  33])"
      ]
     },
     "execution_count": 29,
     "metadata": {},
     "output_type": "execute_result"
    }
   ],
   "source": [
    "x + y"
   ]
  },
  {
   "cell_type": "code",
   "execution_count": 30,
   "metadata": {},
   "outputs": [
    {
     "data": {
      "text/plain": [
       "tensor([ 11,  22,  33])"
      ]
     },
     "execution_count": 30,
     "metadata": {},
     "output_type": "execute_result"
    }
   ],
   "source": [
    "torch.add(x,y)"
   ]
  },
  {
   "cell_type": "code",
   "execution_count": 34,
   "metadata": {},
   "outputs": [
    {
     "data": {
      "text/plain": [
       "tensor([ 1,  2,  3])"
      ]
     },
     "execution_count": 34,
     "metadata": {},
     "output_type": "execute_result"
    }
   ],
   "source": [
    "x"
   ]
  },
  {
   "cell_type": "code",
   "execution_count": 35,
   "metadata": {},
   "outputs": [
    {
     "data": {
      "text/plain": [
       "tensor([ 2,  4,  6])"
      ]
     },
     "execution_count": 35,
     "metadata": {},
     "output_type": "execute_result"
    }
   ],
   "source": [
    "x.add_(x)"
   ]
  },
  {
   "cell_type": "code",
   "execution_count": 36,
   "metadata": {},
   "outputs": [
    {
     "data": {
      "text/plain": [
       "tensor([ 2,  4,  6])"
      ]
     },
     "execution_count": 36,
     "metadata": {},
     "output_type": "execute_result"
    }
   ],
   "source": [
    "x"
   ]
  },
  {
   "cell_type": "code",
   "execution_count": 37,
   "metadata": {},
   "outputs": [
    {
     "data": {
      "text/plain": [
       "tensor(2)"
      ]
     },
     "execution_count": 37,
     "metadata": {},
     "output_type": "execute_result"
    }
   ],
   "source": [
    "x[0]"
   ]
  },
  {
   "cell_type": "code",
   "execution_count": 38,
   "metadata": {},
   "outputs": [
    {
     "data": {
      "text/plain": [
       "tensor(4)"
      ]
     },
     "execution_count": 38,
     "metadata": {},
     "output_type": "execute_result"
    }
   ],
   "source": [
    "x[1]"
   ]
  },
  {
   "cell_type": "code",
   "execution_count": 39,
   "metadata": {},
   "outputs": [
    {
     "data": {
      "text/plain": [
       "tensor([ 2,  4,  6])"
      ]
     },
     "execution_count": 39,
     "metadata": {},
     "output_type": "execute_result"
    }
   ],
   "source": [
    "x"
   ]
  },
  {
   "cell_type": "code",
   "execution_count": 43,
   "metadata": {},
   "outputs": [
    {
     "data": {
      "text/plain": [
       "tensor([ 2,  4,  6])"
      ]
     },
     "execution_count": 43,
     "metadata": {},
     "output_type": "execute_result"
    }
   ],
   "source": [
    "x.view(3)"
   ]
  },
  {
   "cell_type": "code",
   "execution_count": 44,
   "metadata": {},
   "outputs": [
    {
     "data": {
      "text/plain": [
       "tensor([ 2,  4,  6])"
      ]
     },
     "execution_count": 44,
     "metadata": {},
     "output_type": "execute_result"
    }
   ],
   "source": [
    "x"
   ]
  },
  {
   "cell_type": "code",
   "execution_count": 45,
   "metadata": {},
   "outputs": [],
   "source": [
    "y = torch.randn(4,4)"
   ]
  },
  {
   "cell_type": "code",
   "execution_count": 46,
   "metadata": {},
   "outputs": [
    {
     "data": {
      "text/plain": [
       "tensor([[ 0.4806,  0.2113, -0.9202,  0.3682],\n",
       "        [-0.2789,  0.2357, -1.4946, -0.5951],\n",
       "        [-1.2733,  0.0195,  0.4074,  1.3711],\n",
       "        [ 1.0017, -0.3223,  0.4432, -0.4879]])"
      ]
     },
     "execution_count": 46,
     "metadata": {},
     "output_type": "execute_result"
    }
   ],
   "source": [
    "y"
   ]
  },
  {
   "cell_type": "code",
   "execution_count": 47,
   "metadata": {},
   "outputs": [
    {
     "data": {
      "text/plain": [
       "tensor([ 0.4806,  0.2113, -0.9202,  0.3682, -0.2789,  0.2357, -1.4946,\n",
       "        -0.5951, -1.2733,  0.0195,  0.4074,  1.3711,  1.0017, -0.3223,\n",
       "         0.4432, -0.4879])"
      ]
     },
     "execution_count": 47,
     "metadata": {},
     "output_type": "execute_result"
    }
   ],
   "source": [
    "y.view(16)"
   ]
  },
  {
   "cell_type": "code",
   "execution_count": 48,
   "metadata": {},
   "outputs": [
    {
     "data": {
      "text/plain": [
       "tensor([[ 0.4806,  0.2113, -0.9202,  0.3682],\n",
       "        [-0.2789,  0.2357, -1.4946, -0.5951],\n",
       "        [-1.2733,  0.0195,  0.4074,  1.3711],\n",
       "        [ 1.0017, -0.3223,  0.4432, -0.4879]])"
      ]
     },
     "execution_count": 48,
     "metadata": {},
     "output_type": "execute_result"
    }
   ],
   "source": [
    "y"
   ]
  },
  {
   "cell_type": "code",
   "execution_count": 56,
   "metadata": {},
   "outputs": [
    {
     "data": {
      "text/plain": [
       "tensor([[ 0.4806,  0.2113, -0.9202,  0.3682, -0.2789,  0.2357, -1.4946,\n",
       "         -0.5951],\n",
       "        [-1.2733,  0.0195,  0.4074,  1.3711,  1.0017, -0.3223,  0.4432,\n",
       "         -0.4879]])"
      ]
     },
     "execution_count": 56,
     "metadata": {},
     "output_type": "execute_result"
    }
   ],
   "source": [
    "y.view(-1,8)"
   ]
  },
  {
   "cell_type": "code",
   "execution_count": 57,
   "metadata": {},
   "outputs": [
    {
     "data": {
      "text/plain": [
       "tensor([[ 0.4806,  0.2113, -0.9202,  0.3682],\n",
       "        [-0.2789,  0.2357, -1.4946, -0.5951],\n",
       "        [-1.2733,  0.0195,  0.4074,  1.3711],\n",
       "        [ 1.0017, -0.3223,  0.4432, -0.4879]])"
      ]
     },
     "execution_count": 57,
     "metadata": {},
     "output_type": "execute_result"
    }
   ],
   "source": [
    "y"
   ]
  },
  {
   "cell_type": "code",
   "execution_count": 60,
   "metadata": {},
   "outputs": [
    {
     "data": {
      "text/plain": [
       "tensor([ 0.1084,  0.5110,  0.6447], dtype=torch.float64)"
      ]
     },
     "execution_count": 60,
     "metadata": {},
     "output_type": "execute_result"
    }
   ],
   "source": [
    "z"
   ]
  },
  {
   "cell_type": "code",
   "execution_count": 61,
   "metadata": {},
   "outputs": [],
   "source": [
    "r = torch.ones(1)"
   ]
  },
  {
   "cell_type": "code",
   "execution_count": 62,
   "metadata": {},
   "outputs": [
    {
     "data": {
      "text/plain": [
       "tensor([ 1.])"
      ]
     },
     "execution_count": 62,
     "metadata": {},
     "output_type": "execute_result"
    }
   ],
   "source": [
    "r"
   ]
  },
  {
   "cell_type": "code",
   "execution_count": 63,
   "metadata": {},
   "outputs": [
    {
     "data": {
      "text/plain": [
       "1.0"
      ]
     },
     "execution_count": 63,
     "metadata": {},
     "output_type": "execute_result"
    }
   ],
   "source": [
    "r.item()"
   ]
  },
  {
   "cell_type": "code",
   "execution_count": 64,
   "metadata": {},
   "outputs": [
    {
     "data": {
      "text/plain": [
       "tensor([ 0.1084,  0.5110,  0.6447], dtype=torch.float64)"
      ]
     },
     "execution_count": 64,
     "metadata": {},
     "output_type": "execute_result"
    }
   ],
   "source": [
    "z"
   ]
  },
  {
   "cell_type": "code",
   "execution_count": 65,
   "metadata": {},
   "outputs": [],
   "source": [
    "import numpy as np"
   ]
  },
  {
   "cell_type": "code",
   "execution_count": 66,
   "metadata": {},
   "outputs": [],
   "source": [
    "a = np.array(z)"
   ]
  },
  {
   "cell_type": "code",
   "execution_count": 67,
   "metadata": {},
   "outputs": [
    {
     "data": {
      "text/plain": [
       "array([0.1084469 , 0.5109915 , 0.64465092])"
      ]
     },
     "execution_count": 67,
     "metadata": {},
     "output_type": "execute_result"
    }
   ],
   "source": [
    "a"
   ]
  },
  {
   "cell_type": "code",
   "execution_count": 68,
   "metadata": {},
   "outputs": [
    {
     "data": {
      "text/plain": [
       "tensor([ 0.1084,  0.5110,  0.6447], dtype=torch.float64)"
      ]
     },
     "execution_count": 68,
     "metadata": {},
     "output_type": "execute_result"
    }
   ],
   "source": [
    "z"
   ]
  },
  {
   "cell_type": "code",
   "execution_count": 69,
   "metadata": {},
   "outputs": [],
   "source": [
    "b = torch.from_numpy(a)"
   ]
  },
  {
   "cell_type": "code",
   "execution_count": 70,
   "metadata": {},
   "outputs": [
    {
     "data": {
      "text/plain": [
       "tensor([ 0.1084,  0.5110,  0.6447], dtype=torch.float64)"
      ]
     },
     "execution_count": 70,
     "metadata": {},
     "output_type": "execute_result"
    }
   ],
   "source": [
    "b"
   ]
  },
  {
   "cell_type": "markdown",
   "metadata": {},
   "source": [
    "### autograd package"
   ]
  },
  {
   "cell_type": "code",
   "execution_count": 71,
   "metadata": {},
   "outputs": [],
   "source": [
    "# central to all neural networks is autograd package \n",
    "# autograd provides \"automatic differentiation\" on tensors\n",
    "# its a define-by-run framework (every iteration can be different)"
   ]
  },
  {
   "cell_type": "code",
   "execution_count": 72,
   "metadata": {},
   "outputs": [],
   "source": [
    "x = torch.ones(2,2, requires_grad=True)"
   ]
  },
  {
   "cell_type": "code",
   "execution_count": 73,
   "metadata": {},
   "outputs": [
    {
     "data": {
      "text/plain": [
       "tensor([[ 1.,  1.],\n",
       "        [ 1.,  1.]])"
      ]
     },
     "execution_count": 73,
     "metadata": {},
     "output_type": "execute_result"
    }
   ],
   "source": [
    "x"
   ]
  },
  {
   "cell_type": "code",
   "execution_count": 74,
   "metadata": {},
   "outputs": [],
   "source": [
    "y = x + 2"
   ]
  },
  {
   "cell_type": "code",
   "execution_count": 75,
   "metadata": {},
   "outputs": [
    {
     "data": {
      "text/plain": [
       "tensor([[ 3.,  3.],\n",
       "        [ 3.,  3.]])"
      ]
     },
     "execution_count": 75,
     "metadata": {},
     "output_type": "execute_result"
    }
   ],
   "source": [
    "y"
   ]
  },
  {
   "cell_type": "code",
   "execution_count": 76,
   "metadata": {},
   "outputs": [
    {
     "data": {
      "text/plain": [
       "<AddBackward0 at 0x7fc5782afc18>"
      ]
     },
     "execution_count": 76,
     "metadata": {},
     "output_type": "execute_result"
    }
   ],
   "source": [
    "y.grad_fn # created by an operation"
   ]
  },
  {
   "cell_type": "code",
   "execution_count": 78,
   "metadata": {},
   "outputs": [],
   "source": [
    "x.grad_fn # created by hand-user"
   ]
  },
  {
   "cell_type": "code",
   "execution_count": 79,
   "metadata": {},
   "outputs": [
    {
     "data": {
      "text/plain": [
       "tensor(3.)"
      ]
     },
     "execution_count": 79,
     "metadata": {},
     "output_type": "execute_result"
    }
   ],
   "source": [
    "y.mean()"
   ]
  },
  {
   "cell_type": "code",
   "execution_count": 80,
   "metadata": {},
   "outputs": [
    {
     "data": {
      "text/plain": [
       "True"
      ]
     },
     "execution_count": 80,
     "metadata": {},
     "output_type": "execute_result"
    }
   ],
   "source": [
    "x.requires_grad"
   ]
  },
  {
   "cell_type": "code",
   "execution_count": 82,
   "metadata": {},
   "outputs": [
    {
     "data": {
      "text/plain": [
       "tensor([[ 1.,  1.],\n",
       "        [ 1.,  1.]])"
      ]
     },
     "execution_count": 82,
     "metadata": {},
     "output_type": "execute_result"
    }
   ],
   "source": [
    "x.requires_grad_()"
   ]
  },
  {
   "cell_type": "code",
   "execution_count": 83,
   "metadata": {},
   "outputs": [
    {
     "data": {
      "text/plain": [
       "tensor([[ 1.,  1.],\n",
       "        [ 1.,  1.]])"
      ]
     },
     "execution_count": 83,
     "metadata": {},
     "output_type": "execute_result"
    }
   ],
   "source": [
    "x"
   ]
  },
  {
   "cell_type": "code",
   "execution_count": 84,
   "metadata": {},
   "outputs": [
    {
     "data": {
      "text/plain": [
       "True"
      ]
     },
     "execution_count": 84,
     "metadata": {},
     "output_type": "execute_result"
    }
   ],
   "source": [
    "y.requires_grad"
   ]
  },
  {
   "cell_type": "code",
   "execution_count": 85,
   "metadata": {},
   "outputs": [
    {
     "data": {
      "text/plain": [
       "tensor(1.)"
      ]
     },
     "execution_count": 85,
     "metadata": {},
     "output_type": "execute_result"
    }
   ],
   "source": [
    "x.mean()"
   ]
  },
  {
   "cell_type": "code",
   "execution_count": 86,
   "metadata": {},
   "outputs": [],
   "source": [
    "x.mean().backward()"
   ]
  },
  {
   "cell_type": "code",
   "execution_count": 87,
   "metadata": {},
   "outputs": [
    {
     "data": {
      "text/plain": [
       "tensor([[ 0.2500,  0.2500],\n",
       "        [ 0.2500,  0.2500]])"
      ]
     },
     "execution_count": 87,
     "metadata": {},
     "output_type": "execute_result"
    }
   ],
   "source": [
    "x.grad"
   ]
  },
  {
   "cell_type": "code",
   "execution_count": 88,
   "metadata": {},
   "outputs": [
    {
     "data": {
      "text/plain": [
       "tensor([[ 1.,  1.],\n",
       "        [ 1.,  1.]])"
      ]
     },
     "execution_count": 88,
     "metadata": {},
     "output_type": "execute_result"
    }
   ],
   "source": [
    "x"
   ]
  },
  {
   "cell_type": "code",
   "execution_count": 89,
   "metadata": {},
   "outputs": [
    {
     "data": {
      "text/plain": [
       "tensor([[ 3.,  3.],\n",
       "        [ 3.,  3.]])"
      ]
     },
     "execution_count": 89,
     "metadata": {},
     "output_type": "execute_result"
    }
   ],
   "source": [
    "y"
   ]
  },
  {
   "cell_type": "code",
   "execution_count": 90,
   "metadata": {},
   "outputs": [],
   "source": [
    "y.grad"
   ]
  },
  {
   "cell_type": "code",
   "execution_count": 91,
   "metadata": {},
   "outputs": [
    {
     "data": {
      "text/plain": [
       "tensor(3.)"
      ]
     },
     "execution_count": 91,
     "metadata": {},
     "output_type": "execute_result"
    }
   ],
   "source": [
    "y.mean()"
   ]
  },
  {
   "cell_type": "code",
   "execution_count": 92,
   "metadata": {},
   "outputs": [],
   "source": [
    "y.mean().backward()"
   ]
  },
  {
   "cell_type": "code",
   "execution_count": 94,
   "metadata": {},
   "outputs": [],
   "source": [
    "y.grad"
   ]
  },
  {
   "cell_type": "code",
   "execution_count": 110,
   "metadata": {},
   "outputs": [],
   "source": [
    "r = torch.ones(2,2, requires_grad=True)"
   ]
  },
  {
   "cell_type": "code",
   "execution_count": 111,
   "metadata": {},
   "outputs": [
    {
     "data": {
      "text/plain": [
       "tensor([[ 1.,  1.],\n",
       "        [ 1.,  1.]])"
      ]
     },
     "execution_count": 111,
     "metadata": {},
     "output_type": "execute_result"
    }
   ],
   "source": [
    "r"
   ]
  },
  {
   "cell_type": "code",
   "execution_count": 112,
   "metadata": {},
   "outputs": [],
   "source": [
    "s = r*r + 5*r"
   ]
  },
  {
   "cell_type": "code",
   "execution_count": 113,
   "metadata": {},
   "outputs": [
    {
     "data": {
      "text/plain": [
       "(True, True)"
      ]
     },
     "execution_count": 113,
     "metadata": {},
     "output_type": "execute_result"
    }
   ],
   "source": [
    "s.requires_grad, r.requires_grad"
   ]
  },
  {
   "cell_type": "code",
   "execution_count": 114,
   "metadata": {},
   "outputs": [
    {
     "data": {
      "text/plain": [
       "tensor([[ 1.,  1.],\n",
       "        [ 1.,  1.]])"
      ]
     },
     "execution_count": 114,
     "metadata": {},
     "output_type": "execute_result"
    }
   ],
   "source": [
    "r"
   ]
  },
  {
   "cell_type": "code",
   "execution_count": 115,
   "metadata": {},
   "outputs": [
    {
     "data": {
      "text/plain": [
       "tensor([[ 6.,  6.],\n",
       "        [ 6.,  6.]])"
      ]
     },
     "execution_count": 115,
     "metadata": {},
     "output_type": "execute_result"
    }
   ],
   "source": [
    "s"
   ]
  },
  {
   "cell_type": "code",
   "execution_count": 125,
   "metadata": {},
   "outputs": [
    {
     "data": {
      "text/plain": [
       "tensor(24.)"
      ]
     },
     "execution_count": 125,
     "metadata": {},
     "output_type": "execute_result"
    }
   ],
   "source": [
    "s.sum()"
   ]
  },
  {
   "cell_type": "code",
   "execution_count": 130,
   "metadata": {},
   "outputs": [],
   "source": [
    "t = s.sum()"
   ]
  },
  {
   "cell_type": "code",
   "execution_count": 131,
   "metadata": {},
   "outputs": [
    {
     "data": {
      "text/plain": [
       "tensor(24.)"
      ]
     },
     "execution_count": 131,
     "metadata": {},
     "output_type": "execute_result"
    }
   ],
   "source": [
    "t"
   ]
  },
  {
   "cell_type": "code",
   "execution_count": 133,
   "metadata": {},
   "outputs": [
    {
     "data": {
      "text/plain": [
       "tensor([[ 1.7500,  1.7500],\n",
       "        [ 1.7500,  1.7500]])"
      ]
     },
     "execution_count": 133,
     "metadata": {},
     "output_type": "execute_result"
    }
   ],
   "source": [
    "r.grad"
   ]
  },
  {
   "cell_type": "code",
   "execution_count": 134,
   "metadata": {},
   "outputs": [
    {
     "name": "stdout",
     "output_type": "stream",
     "text": [
      "tensor([[ 1.7500,  1.7500],\n",
      "        [ 1.7500,  1.7500]])\n"
     ]
    }
   ],
   "source": [
    "print(r.grad)"
   ]
  },
  {
   "cell_type": "markdown",
   "metadata": {},
   "source": [
    "#### first example"
   ]
  },
  {
   "cell_type": "code",
   "execution_count": 135,
   "metadata": {},
   "outputs": [],
   "source": [
    "a = torch.ones(1, requires_grad=True)"
   ]
  },
  {
   "cell_type": "code",
   "execution_count": 136,
   "metadata": {},
   "outputs": [
    {
     "data": {
      "text/plain": [
       "tensor([ 1.])"
      ]
     },
     "execution_count": 136,
     "metadata": {},
     "output_type": "execute_result"
    }
   ],
   "source": [
    "a"
   ]
  },
  {
   "cell_type": "code",
   "execution_count": 137,
   "metadata": {},
   "outputs": [],
   "source": [
    "b = a*a"
   ]
  },
  {
   "cell_type": "code",
   "execution_count": 138,
   "metadata": {},
   "outputs": [
    {
     "data": {
      "text/plain": [
       "tensor([ 1.])"
      ]
     },
     "execution_count": 138,
     "metadata": {},
     "output_type": "execute_result"
    }
   ],
   "source": [
    "b"
   ]
  },
  {
   "cell_type": "code",
   "execution_count": 139,
   "metadata": {},
   "outputs": [],
   "source": [
    "c = b.mean()"
   ]
  },
  {
   "cell_type": "code",
   "execution_count": 140,
   "metadata": {},
   "outputs": [
    {
     "data": {
      "text/plain": [
       "tensor(1.)"
      ]
     },
     "execution_count": 140,
     "metadata": {},
     "output_type": "execute_result"
    }
   ],
   "source": [
    "c"
   ]
  },
  {
   "cell_type": "code",
   "execution_count": 141,
   "metadata": {},
   "outputs": [],
   "source": [
    "c.backward()"
   ]
  },
  {
   "cell_type": "code",
   "execution_count": 142,
   "metadata": {},
   "outputs": [
    {
     "data": {
      "text/plain": [
       "tensor([ 2.])"
      ]
     },
     "execution_count": 142,
     "metadata": {},
     "output_type": "execute_result"
    }
   ],
   "source": [
    "a.grad"
   ]
  },
  {
   "cell_type": "markdown",
   "metadata": {},
   "source": [
    "#### second example"
   ]
  },
  {
   "cell_type": "code",
   "execution_count": 151,
   "metadata": {},
   "outputs": [],
   "source": [
    "x = torch.ones(1, requires_grad=True)"
   ]
  },
  {
   "cell_type": "code",
   "execution_count": 152,
   "metadata": {},
   "outputs": [],
   "source": [
    "y = 3 * x * x + 5 * x"
   ]
  },
  {
   "cell_type": "code",
   "execution_count": 153,
   "metadata": {},
   "outputs": [
    {
     "data": {
      "text/plain": [
       "tensor([ 8.])"
      ]
     },
     "execution_count": 153,
     "metadata": {},
     "output_type": "execute_result"
    }
   ],
   "source": [
    "y"
   ]
  },
  {
   "cell_type": "code",
   "execution_count": 146,
   "metadata": {},
   "outputs": [
    {
     "data": {
      "text/plain": [
       "tensor([ 1.])"
      ]
     },
     "execution_count": 146,
     "metadata": {},
     "output_type": "execute_result"
    }
   ],
   "source": [
    "x"
   ]
  },
  {
   "cell_type": "code",
   "execution_count": 147,
   "metadata": {},
   "outputs": [],
   "source": [
    "z = y.mean()"
   ]
  },
  {
   "cell_type": "code",
   "execution_count": 148,
   "metadata": {},
   "outputs": [],
   "source": [
    "z.backward()"
   ]
  },
  {
   "cell_type": "code",
   "execution_count": 149,
   "metadata": {},
   "outputs": [
    {
     "data": {
      "text/plain": [
       "tensor([ 11.])"
      ]
     },
     "execution_count": 149,
     "metadata": {},
     "output_type": "execute_result"
    }
   ],
   "source": [
    "x.grad"
   ]
  },
  {
   "cell_type": "code",
   "execution_count": 154,
   "metadata": {},
   "outputs": [],
   "source": [
    "y.backward()"
   ]
  },
  {
   "cell_type": "code",
   "execution_count": 155,
   "metadata": {},
   "outputs": [],
   "source": [
    "y.grad"
   ]
  },
  {
   "cell_type": "code",
   "execution_count": 158,
   "metadata": {},
   "outputs": [
    {
     "data": {
      "text/plain": [
       "1"
      ]
     },
     "execution_count": 158,
     "metadata": {},
     "output_type": "execute_result"
    }
   ],
   "source": [
    "y.ndimension()"
   ]
  },
  {
   "cell_type": "code",
   "execution_count": 159,
   "metadata": {},
   "outputs": [
    {
     "data": {
      "text/plain": [
       "1"
      ]
     },
     "execution_count": 159,
     "metadata": {},
     "output_type": "execute_result"
    }
   ],
   "source": [
    "x.ndimension()"
   ]
  },
  {
   "cell_type": "code",
   "execution_count": 160,
   "metadata": {},
   "outputs": [
    {
     "data": {
      "text/plain": [
       "torch.Size([1])"
      ]
     },
     "execution_count": 160,
     "metadata": {},
     "output_type": "execute_result"
    }
   ],
   "source": [
    "y.shape"
   ]
  },
  {
   "cell_type": "code",
   "execution_count": 161,
   "metadata": {},
   "outputs": [
    {
     "data": {
      "text/plain": [
       "tensor(8.)"
      ]
     },
     "execution_count": 161,
     "metadata": {},
     "output_type": "execute_result"
    }
   ],
   "source": [
    "z"
   ]
  },
  {
   "cell_type": "code",
   "execution_count": 162,
   "metadata": {},
   "outputs": [
    {
     "data": {
      "text/plain": [
       "torch.Size([])"
      ]
     },
     "execution_count": 162,
     "metadata": {},
     "output_type": "execute_result"
    }
   ],
   "source": [
    "z.shape"
   ]
  },
  {
   "cell_type": "markdown",
   "metadata": {},
   "source": [
    "#### third example"
   ]
  },
  {
   "cell_type": "code",
   "execution_count": 163,
   "metadata": {},
   "outputs": [],
   "source": [
    "x = torch.ones(2,2, requires_grad=True)"
   ]
  },
  {
   "cell_type": "code",
   "execution_count": 164,
   "metadata": {},
   "outputs": [],
   "source": [
    "y = x * x"
   ]
  },
  {
   "cell_type": "code",
   "execution_count": 165,
   "metadata": {},
   "outputs": [
    {
     "data": {
      "text/plain": [
       "(tensor([[ 1.,  1.],\n",
       "         [ 1.,  1.]]), tensor([[ 1.,  1.],\n",
       "         [ 1.,  1.]]))"
      ]
     },
     "execution_count": 165,
     "metadata": {},
     "output_type": "execute_result"
    }
   ],
   "source": [
    "x, y"
   ]
  },
  {
   "cell_type": "code",
   "execution_count": 166,
   "metadata": {},
   "outputs": [
    {
     "data": {
      "text/plain": [
       "tensor([[ 1.,  1.],\n",
       "        [ 1.,  1.]])"
      ]
     },
     "execution_count": 166,
     "metadata": {},
     "output_type": "execute_result"
    }
   ],
   "source": [
    "x"
   ]
  },
  {
   "cell_type": "code",
   "execution_count": 167,
   "metadata": {},
   "outputs": [
    {
     "data": {
      "text/plain": [
       "tensor([[ 1.,  1.],\n",
       "        [ 1.,  1.]])"
      ]
     },
     "execution_count": 167,
     "metadata": {},
     "output_type": "execute_result"
    }
   ],
   "source": [
    "y"
   ]
  },
  {
   "cell_type": "code",
   "execution_count": 169,
   "metadata": {},
   "outputs": [
    {
     "data": {
      "text/plain": [
       "(2, 2)"
      ]
     },
     "execution_count": 169,
     "metadata": {},
     "output_type": "execute_result"
    }
   ],
   "source": [
    "x.ndimension(), y.ndimension()"
   ]
  },
  {
   "cell_type": "code",
   "execution_count": 170,
   "metadata": {},
   "outputs": [],
   "source": [
    "z = y.sum()"
   ]
  },
  {
   "cell_type": "code",
   "execution_count": 171,
   "metadata": {},
   "outputs": [
    {
     "data": {
      "text/plain": [
       "tensor(4.)"
      ]
     },
     "execution_count": 171,
     "metadata": {},
     "output_type": "execute_result"
    }
   ],
   "source": [
    "z"
   ]
  },
  {
   "cell_type": "code",
   "execution_count": 172,
   "metadata": {},
   "outputs": [
    {
     "data": {
      "text/plain": [
       "0"
      ]
     },
     "execution_count": 172,
     "metadata": {},
     "output_type": "execute_result"
    }
   ],
   "source": [
    "z.ndimension()"
   ]
  },
  {
   "cell_type": "code",
   "execution_count": 173,
   "metadata": {},
   "outputs": [],
   "source": [
    "z.backward()"
   ]
  },
  {
   "cell_type": "code",
   "execution_count": 174,
   "metadata": {},
   "outputs": [
    {
     "data": {
      "text/plain": [
       "tensor([[ 2.,  2.],\n",
       "        [ 2.,  2.]])"
      ]
     },
     "execution_count": 174,
     "metadata": {},
     "output_type": "execute_result"
    }
   ],
   "source": [
    "x.grad"
   ]
  },
  {
   "cell_type": "markdown",
   "metadata": {},
   "source": [
    "#### last example but now we calculate mean"
   ]
  },
  {
   "cell_type": "code",
   "execution_count": 175,
   "metadata": {},
   "outputs": [],
   "source": [
    "x = torch.ones(2,2, requires_grad=True)"
   ]
  },
  {
   "cell_type": "code",
   "execution_count": 176,
   "metadata": {},
   "outputs": [
    {
     "data": {
      "text/plain": [
       "tensor([[ 1.,  1.],\n",
       "        [ 1.,  1.]])"
      ]
     },
     "execution_count": 176,
     "metadata": {},
     "output_type": "execute_result"
    }
   ],
   "source": [
    "x"
   ]
  },
  {
   "cell_type": "code",
   "execution_count": 177,
   "metadata": {},
   "outputs": [],
   "source": [
    "y = x*x"
   ]
  },
  {
   "cell_type": "code",
   "execution_count": 178,
   "metadata": {},
   "outputs": [],
   "source": [
    "z = y.mean()"
   ]
  },
  {
   "cell_type": "code",
   "execution_count": 179,
   "metadata": {},
   "outputs": [],
   "source": [
    "z.backward()"
   ]
  },
  {
   "cell_type": "code",
   "execution_count": 180,
   "metadata": {},
   "outputs": [
    {
     "data": {
      "text/plain": [
       "tensor([[ 0.5000,  0.5000],\n",
       "        [ 0.5000,  0.5000]])"
      ]
     },
     "execution_count": 180,
     "metadata": {},
     "output_type": "execute_result"
    }
   ],
   "source": [
    "x.grad"
   ]
  },
  {
   "cell_type": "code",
   "execution_count": 181,
   "metadata": {},
   "outputs": [],
   "source": [
    "x.grad_fn"
   ]
  },
  {
   "cell_type": "code",
   "execution_count": 182,
   "metadata": {},
   "outputs": [
    {
     "data": {
      "text/plain": [
       "<MulBackward1 at 0x7fc57825c668>"
      ]
     },
     "execution_count": 182,
     "metadata": {},
     "output_type": "execute_result"
    }
   ],
   "source": [
    "y.grad_fn"
   ]
  },
  {
   "cell_type": "markdown",
   "metadata": {},
   "source": [
    "#### more examples"
   ]
  },
  {
   "cell_type": "code",
   "execution_count": 183,
   "metadata": {},
   "outputs": [],
   "source": [
    "x = torch.randn(3, requires_grad=True)"
   ]
  },
  {
   "cell_type": "code",
   "execution_count": 184,
   "metadata": {},
   "outputs": [
    {
     "data": {
      "text/plain": [
       "tensor([ 0.3799, -2.3042,  1.5493])"
      ]
     },
     "execution_count": 184,
     "metadata": {},
     "output_type": "execute_result"
    }
   ],
   "source": [
    "x"
   ]
  },
  {
   "cell_type": "code",
   "execution_count": 185,
   "metadata": {},
   "outputs": [],
   "source": [
    "y = x * 2 "
   ]
  },
  {
   "cell_type": "code",
   "execution_count": 186,
   "metadata": {},
   "outputs": [
    {
     "name": "stdout",
     "output_type": "stream",
     "text": [
      "tensor([  194.4998, -1179.7489,   793.2573])\n"
     ]
    }
   ],
   "source": [
    "while y.data.norm() < 1000:\n",
    "    y = y * 2\n",
    "print(y)"
   ]
  },
  {
   "cell_type": "code",
   "execution_count": 187,
   "metadata": {},
   "outputs": [
    {
     "data": {
      "text/plain": [
       "True"
      ]
     },
     "execution_count": 187,
     "metadata": {},
     "output_type": "execute_result"
    }
   ],
   "source": [
    "x.requires_grad"
   ]
  },
  {
   "cell_type": "code",
   "execution_count": 188,
   "metadata": {},
   "outputs": [
    {
     "data": {
      "text/plain": [
       "True"
      ]
     },
     "execution_count": 188,
     "metadata": {},
     "output_type": "execute_result"
    }
   ],
   "source": [
    "(x**2).requires_grad"
   ]
  },
  {
   "cell_type": "code",
   "execution_count": 189,
   "metadata": {},
   "outputs": [
    {
     "name": "stdout",
     "output_type": "stream",
     "text": [
      "False\n"
     ]
    }
   ],
   "source": [
    "with torch.no_grad():\n",
    "    print((x**2).requires_grad)"
   ]
  },
  {
   "cell_type": "markdown",
   "metadata": {},
   "source": [
    "### neural networks in pytorch"
   ]
  },
  {
   "cell_type": "code",
   "execution_count": 1,
   "metadata": {},
   "outputs": [],
   "source": [
    "# nn depends on autograd to define its models and differentiate\n",
    "# nn.Module contains layers, and a forward method that return output"
   ]
  },
  {
   "cell_type": "code",
   "execution_count": 3,
   "metadata": {},
   "outputs": [
    {
     "data": {
      "text/plain": [
       "'\\nsteps to define a nn\\n1 define nn and its learnable parameteres \\n2 iterate over dataset\\n3 process input through the networks\\n4 compute loss \\n5 propagate gradients \\n6 ipdate weights, using a rule\\n'"
      ]
     },
     "execution_count": 3,
     "metadata": {},
     "output_type": "execute_result"
    }
   ],
   "source": [
    "'''\n",
    "steps to define a nn\n",
    "1 define nn and its learnable parameteres \n",
    "2 iterate over dataset\n",
    "3 process input through the networks\n",
    "4 compute loss \n",
    "5 propagate gradients \n",
    "6 ipdate weights, using a rule\n",
    "'''"
   ]
  },
  {
   "cell_type": "code",
   "execution_count": 4,
   "metadata": {},
   "outputs": [],
   "source": [
    "import torch\n",
    "import torch.nn as nn\n",
    "import torch.nn.functional as F"
   ]
  },
  {
   "cell_type": "code",
   "execution_count": 38,
   "metadata": {},
   "outputs": [],
   "source": [
    "class Net(nn.Module):\n",
    "    \n",
    "    def __init__(self):\n",
    "        super(Net, self).__init__()\n",
    "        \n",
    "        self.conv1 = nn.Conv2d(1, 6, 5)\n",
    "        self.conv2 = nn.Conv2d(6, 16, 5)\n",
    "        \n",
    "        self.fc1 = nn.Linear(16 * 5 * 5, 120)\n",
    "        self.fc2 = nn.Linear(120, 84)\n",
    "        self.fc3 = nn.Linear(84, 10)\n",
    "        \n",
    "    def forward(self, x):\n",
    "        x = F.max_pool2d(F.relu(self.conv1(x)), (2,2))\n",
    "        x = F.max_pool2d(F.relu(self.conv2(x)), 2)\n",
    "        x = x.view(-1, self.num_flat_features(x))\n",
    "        x = F.relu(self.fc1(x))\n",
    "        x = F.relu(self.fc2(x))\n",
    "        x = self.fc3(x)\n",
    "        return x\n",
    "        \n",
    "    def num_flat_features(self, x):\n",
    "        size = x.size()[1:]\n",
    "        num_features = 1\n",
    "        for s in size:\n",
    "            num_features *= s\n",
    "        return num_features"
   ]
  },
  {
   "cell_type": "code",
   "execution_count": 6,
   "metadata": {},
   "outputs": [],
   "source": [
    "? nn.Conv2d()"
   ]
  },
  {
   "cell_type": "code",
   "execution_count": 39,
   "metadata": {},
   "outputs": [],
   "source": [
    "net = Net()"
   ]
  },
  {
   "cell_type": "code",
   "execution_count": 40,
   "metadata": {},
   "outputs": [
    {
     "name": "stdout",
     "output_type": "stream",
     "text": [
      "Net(\n",
      "  (conv1): Conv2d(1, 6, kernel_size=(5, 5), stride=(1, 1))\n",
      "  (conv2): Conv2d(6, 16, kernel_size=(5, 5), stride=(1, 1))\n",
      "  (fc1): Linear(in_features=400, out_features=120, bias=True)\n",
      "  (fc2): Linear(in_features=120, out_features=84, bias=True)\n",
      "  (fc3): Linear(in_features=84, out_features=10, bias=True)\n",
      ")\n"
     ]
    }
   ],
   "source": [
    "print(net)"
   ]
  },
  {
   "cell_type": "code",
   "execution_count": 41,
   "metadata": {},
   "outputs": [
    {
     "data": {
      "text/plain": [
       "<generator object Module.parameters at 0x7f96f2cbb4c0>"
      ]
     },
     "execution_count": 41,
     "metadata": {},
     "output_type": "execute_result"
    }
   ],
   "source": [
    "net.parameters()"
   ]
  },
  {
   "cell_type": "code",
   "execution_count": 42,
   "metadata": {},
   "outputs": [
    {
     "data": {
      "text/plain": [
       "[Parameter containing:\n",
       " tensor([[[[ 0.0658,  0.1481, -0.0120,  0.1578, -0.1611],\n",
       "           [ 0.0744,  0.0004, -0.1996,  0.0646, -0.1696],\n",
       "           [-0.0958,  0.0300, -0.0667, -0.0793, -0.0720],\n",
       "           [-0.0467, -0.0499, -0.0444, -0.0733, -0.0982],\n",
       "           [-0.1909,  0.1444, -0.0569, -0.1823, -0.0765]]],\n",
       " \n",
       " \n",
       "         [[[-0.1074, -0.1637, -0.1723,  0.0126,  0.0320],\n",
       "           [-0.0591,  0.1090, -0.1673,  0.0740,  0.0635],\n",
       "           [ 0.1539, -0.0005,  0.0367, -0.0800,  0.0631],\n",
       "           [-0.1891,  0.1811,  0.0239,  0.1173, -0.0717],\n",
       "           [-0.0899,  0.0590,  0.1881, -0.0565, -0.0807]]],\n",
       " \n",
       " \n",
       "         [[[ 0.0123,  0.1549, -0.1343,  0.0488, -0.1526],\n",
       "           [-0.1146,  0.1837,  0.1895, -0.1133, -0.0383],\n",
       "           [-0.0287,  0.1875,  0.0424, -0.0010, -0.0559],\n",
       "           [-0.1903,  0.1870,  0.0092, -0.0087,  0.0203],\n",
       "           [ 0.1442,  0.0116,  0.0503,  0.1693, -0.1446]]],\n",
       " \n",
       " \n",
       "         [[[ 0.1628,  0.0344, -0.1855,  0.0107,  0.0373],\n",
       "           [ 0.1605, -0.0060, -0.1972,  0.1655, -0.1428],\n",
       "           [ 0.0371, -0.0590,  0.0952, -0.1293, -0.1396],\n",
       "           [ 0.0334, -0.1077, -0.1520,  0.0217, -0.0594],\n",
       "           [-0.0019, -0.0760, -0.1272, -0.1665, -0.1985]]],\n",
       " \n",
       " \n",
       "         [[[ 0.1256,  0.0496, -0.0378, -0.0825, -0.1037],\n",
       "           [-0.0481, -0.1335, -0.1463, -0.1933, -0.0205],\n",
       "           [ 0.0136, -0.0972, -0.1569,  0.0761,  0.0063],\n",
       "           [-0.0298, -0.0988,  0.0355, -0.0100,  0.1330],\n",
       "           [ 0.0892,  0.1830,  0.0028,  0.1507, -0.0046]]],\n",
       " \n",
       " \n",
       "         [[[-0.1883,  0.0366, -0.1388, -0.1156,  0.1859],\n",
       "           [-0.0232,  0.0628,  0.1913,  0.0865, -0.0448],\n",
       "           [-0.1434,  0.1498,  0.0302, -0.1464,  0.0699],\n",
       "           [ 0.0309,  0.0528, -0.1584,  0.1023,  0.1123],\n",
       "           [-0.0028,  0.0060,  0.0839,  0.0255,  0.1557]]]]),\n",
       " Parameter containing:\n",
       " tensor([ 0.0032,  0.1231,  0.0844,  0.1150,  0.1440,  0.0890]),\n",
       " Parameter containing:\n",
       " tensor(1.00000e-02 *\n",
       "        [[[[ 5.4383, -3.9813, -5.3623,  1.5781,  7.2121],\n",
       "           [-5.5601,  2.7011,  0.5197, -2.6312,  1.9769],\n",
       "           [ 2.0044,  2.3941,  4.5921, -7.7744,  3.9797],\n",
       "           [-2.3769,  4.6674, -5.6967,  3.1449, -6.3614],\n",
       "           [ 0.3412, -6.8293, -8.1339, -3.5695, -7.9718]],\n",
       " \n",
       "          [[-0.0416, -3.0381,  7.1381, -6.9697,  3.8498],\n",
       "           [ 5.0385, -7.7377, -2.0463,  0.2493,  5.0812],\n",
       "           [-4.9971, -3.1749,  0.7664, -4.6787, -4.5684],\n",
       "           [ 7.8633,  3.0813,  3.3532,  2.0836, -0.9643],\n",
       "           [-2.9727,  7.7597, -4.2667, -2.1292,  6.5260]],\n",
       " \n",
       "          [[-0.8034, -2.2738, -7.0565,  5.2340, -4.1983],\n",
       "           [ 0.9073,  2.1358,  1.1425, -2.1462, -7.1935],\n",
       "           [-7.7980,  4.0312,  0.8588,  8.1299,  0.0953],\n",
       "           [-6.5374, -6.1240,  3.5304,  7.3666,  4.8469],\n",
       "           [-6.9180, -5.3574, -3.2778,  0.2465,  4.5617]],\n",
       " \n",
       "          [[ 4.4695, -7.7760, -7.2317,  5.5270,  0.7370],\n",
       "           [ 6.0618,  2.0138, -2.3096,  1.8596, -5.6601],\n",
       "           [ 0.7948, -4.6811, -5.1446, -1.9808,  2.8699],\n",
       "           [ 3.4248, -4.7669,  1.9582,  2.7650,  7.9027],\n",
       "           [-5.1732,  5.9618, -4.9446,  7.4298, -3.8111]],\n",
       " \n",
       "          [[-4.3942,  8.0042,  2.9750,  8.0694,  7.8349],\n",
       "           [-3.3671,  1.0935,  6.0030,  1.1276, -4.3245],\n",
       "           [ 3.7938, -8.0164, -5.6483,  3.8947,  3.8097],\n",
       "           [-3.5798, -7.4293, -3.8893,  1.1559,  1.7495],\n",
       "           [-1.8426, -4.8413, -0.3460,  1.8656, -5.3345]],\n",
       " \n",
       "          [[-6.4767,  5.0553, -0.6918,  7.3346, -5.0340],\n",
       "           [-3.2042, -6.0064, -6.5128, -2.0771, -5.5694],\n",
       "           [ 1.4566,  3.8095, -2.1190, -2.9797,  3.4198],\n",
       "           [-3.0065, -5.2633, -6.5095, -1.4546, -2.7414],\n",
       "           [ 2.1838, -7.5775,  8.0827,  4.4056,  4.3247]]],\n",
       " \n",
       " \n",
       "         [[[ 0.8784,  2.7687,  4.6444,  1.2605, -2.5322],\n",
       "           [ 4.5368,  4.7787,  5.7707, -2.0492,  4.2082],\n",
       "           [ 3.1384,  2.3087,  5.7729,  1.0407, -1.1202],\n",
       "           [-3.5161,  5.8499, -5.9096,  4.1172,  5.6317],\n",
       "           [-0.6424,  2.0636,  4.9694,  4.5550,  0.4437]],\n",
       " \n",
       "          [[-2.8546, -0.3127,  6.0405,  0.0502, -3.3555],\n",
       "           [ 6.4733,  2.3544, -2.6065,  7.0385, -5.1670],\n",
       "           [-2.6797, -0.3159,  1.2456, -0.0564, -7.4134],\n",
       "           [ 6.6152, -4.6160,  1.9775, -2.6432,  5.7481],\n",
       "           [ 0.5141, -4.0174,  6.7514,  0.3890,  6.4027]],\n",
       " \n",
       "          [[-7.1872,  5.1447, -4.5367, -0.2629,  4.1575],\n",
       "           [-5.3760,  6.8174,  1.8577,  5.9916, -2.7298],\n",
       "           [-3.0603, -6.0903,  7.2689,  1.0592, -7.2968],\n",
       "           [ 3.1019, -1.2430,  7.0474, -7.3358,  0.1928],\n",
       "           [ 5.1588, -1.1072,  5.3453, -4.5129, -3.3960]],\n",
       " \n",
       "          [[ 6.9048,  3.9998, -1.0127,  6.2954,  3.8291],\n",
       "           [ 1.9104, -3.4944,  0.8704, -1.8020,  4.1984],\n",
       "           [ 3.5657, -1.3847,  2.4965, -1.6103, -4.2312],\n",
       "           [ 5.0650, -5.6158, -5.1016, -0.7206, -1.4316],\n",
       "           [ 2.5749, -3.6841, -0.2538, -2.6461, -2.1254]],\n",
       " \n",
       "          [[-7.7136, -2.5881, -2.5874,  3.2661, -6.1260],\n",
       "           [-0.8322, -8.0172,  3.1635, -0.2188,  2.0091],\n",
       "           [ 0.8234,  3.8752,  0.8764, -6.2663, -6.4730],\n",
       "           [-6.8717, -5.8405,  0.8991,  4.5445,  1.7495],\n",
       "           [-0.6927,  3.2947,  2.2643,  2.9580, -7.6589]],\n",
       " \n",
       "          [[ 0.4997,  2.2663, -6.1657, -1.1104, -6.9694],\n",
       "           [ 3.3673,  0.2570, -2.4135, -5.9449,  1.9548],\n",
       "           [ 7.1617,  6.9480, -1.8783,  5.9812, -5.2513],\n",
       "           [ 2.4415, -6.1715,  7.2936, -6.0946, -5.2099],\n",
       "           [ 0.2731,  0.9826,  0.2933, -6.7787, -7.0105]]],\n",
       " \n",
       " \n",
       "         [[[ 6.1596,  6.5298, -7.2943,  6.8769, -2.4916],\n",
       "           [-3.4061, -3.9546, -5.4990, -8.1618, -0.1507],\n",
       "           [-1.4192,  7.3747, -7.5429,  2.7342, -2.2474],\n",
       "           [-1.4644,  3.8516, -5.2076,  8.0105,  7.4692],\n",
       "           [ 5.8445,  2.3152, -1.1389, -3.4932, -2.2077]],\n",
       " \n",
       "          [[ 1.3186,  1.6772, -0.7944, -6.5444,  2.5138],\n",
       "           [ 7.6363, -6.5051,  1.8367, -2.7585,  3.8682],\n",
       "           [-8.1641,  3.3184,  0.7154,  3.5708, -5.3565],\n",
       "           [-5.9102,  5.5686,  1.7145, -7.1056,  7.8601],\n",
       "           [-5.6579,  2.4840, -4.6182,  5.7499, -4.7094]],\n",
       " \n",
       "          [[ 1.5200,  0.6721, -4.1535, -6.2654, -1.3424],\n",
       "           [-6.7842,  0.1851, -3.4993,  0.7311,  3.5368],\n",
       "           [ 2.7366,  4.1334, -3.4877, -2.7811, -6.1732],\n",
       "           [ 5.9249,  2.5495, -1.7475, -4.6411,  0.6992],\n",
       "           [ 6.3783, -2.7585,  3.8852, -7.9417, -1.3218]],\n",
       " \n",
       "          [[-4.2903,  0.5757, -7.8702,  2.9265,  6.5172],\n",
       "           [-0.5185, -3.1592,  0.3814, -3.1408,  1.3395],\n",
       "           [-7.8105,  1.1188, -5.6205,  2.8745, -3.2681],\n",
       "           [-2.1652,  6.2163, -2.5977, -8.1602,  3.8813],\n",
       "           [-0.6839,  0.1362,  1.1101,  5.0048,  3.8508]],\n",
       " \n",
       "          [[-0.4352,  7.7337, -5.2372,  4.0645,  7.8174],\n",
       "           [-4.0843, -4.7178, -2.2209, -0.0074, -3.7649],\n",
       "           [-1.2629,  5.5326,  0.3271,  1.4847,  6.5699],\n",
       "           [-2.2060,  6.5510, -4.4286,  5.5173,  7.0546],\n",
       "           [-5.6048,  6.2419,  0.4524, -2.7348,  4.1078]],\n",
       " \n",
       "          [[-5.3761, -2.3744, -0.2429,  2.2930, -0.3527],\n",
       "           [-7.5657, -2.8824, -5.4497, -1.5041, -2.4608],\n",
       "           [ 7.7085,  5.6154,  2.6823, -7.1919,  1.2032],\n",
       "           [ 1.3380,  6.1807, -0.6756,  1.4289,  0.4095],\n",
       "           [-0.5414,  5.0964, -7.2864, -5.5942, -3.7876]]],\n",
       " \n",
       " \n",
       "         ...,\n",
       " \n",
       " \n",
       "         [[[ 2.6158,  3.8548,  4.5628, -6.1435, -2.1427],\n",
       "           [-3.9165,  3.6604, -5.8140, -4.0048, -0.9575],\n",
       "           [ 2.8961,  6.2675,  5.7165, -2.9181,  5.6905],\n",
       "           [ 5.1587, -3.4680,  5.5542,  6.0183, -8.1351],\n",
       "           [ 7.5494, -5.6239, -0.9129, -0.4252,  2.0088]],\n",
       " \n",
       "          [[ 6.6623, -0.9282, -6.5853,  7.7999, -1.1217],\n",
       "           [ 6.3085,  0.9188, -6.7226, -7.3876, -2.9013],\n",
       "           [-1.3809,  4.4080,  1.6129, -0.7142, -0.5763],\n",
       "           [-5.2011,  1.6800, -7.7810, -3.5467, -7.4008],\n",
       "           [ 0.5582, -1.7900, -7.1832,  8.0851, -6.7845]],\n",
       " \n",
       "          [[ 4.3005,  0.1343, -0.0706, -2.0182, -4.5590],\n",
       "           [-4.3967,  7.5363, -5.9106,  1.0635,  4.1791],\n",
       "           [-4.1936, -3.9005,  2.6923, -2.7652, -2.7888],\n",
       "           [-7.3690, -3.0358,  2.7944, -4.9037,  5.3603],\n",
       "           [-5.8824, -8.1618, -7.5600,  7.2208,  1.2680]],\n",
       " \n",
       "          [[-7.1436,  7.0100,  6.5942, -2.9751,  2.4439],\n",
       "           [-2.8473,  7.4492, -4.9537, -2.6985, -4.9977],\n",
       "           [-2.4516, -6.5975, -4.3757, -7.6742, -3.5795],\n",
       "           [ 6.3348,  1.3825, -0.9351,  1.5256, -6.3087],\n",
       "           [ 4.9624,  7.0361, -6.7143, -5.5867, -6.3170]],\n",
       " \n",
       "          [[ 1.1848,  2.6544, -7.8165,  0.7642,  0.8813],\n",
       "           [-1.6643,  3.4634,  0.8258, -1.5475, -6.0370],\n",
       "           [ 5.0996,  5.2467,  3.9565, -3.4448, -1.4031],\n",
       "           [ 7.3511, -4.1999,  7.6613,  0.5318, -6.6188],\n",
       "           [ 7.1488, -5.9768, -2.6836,  1.2481, -6.2773]],\n",
       " \n",
       "          [[ 2.7094, -5.8566, -6.9146,  2.5382,  7.2376],\n",
       "           [ 6.9253, -7.7768,  3.9237,  1.2335, -1.0418],\n",
       "           [-0.7615, -1.9174,  4.7012, -3.8241, -6.4342],\n",
       "           [ 3.6776, -7.9752,  5.8752, -5.7756, -2.6242],\n",
       "           [-3.7254,  2.3866, -2.5057, -6.9367, -4.6172]]],\n",
       " \n",
       " \n",
       "         [[[-3.1018,  5.1929,  2.7648, -0.7476, -1.8404],\n",
       "           [-3.2298,  2.9446, -2.1861, -1.5335, -2.5055],\n",
       "           [-3.3262, -5.4446,  4.0254,  0.8379, -5.5836],\n",
       "           [ 6.5459, -4.4870,  7.5785,  3.1230,  5.1696],\n",
       "           [-1.8582,  1.6764,  4.7267,  4.9696, -4.8461]],\n",
       " \n",
       "          [[-7.9987,  1.2390,  6.2413, -0.5683,  6.9966],\n",
       "           [ 4.3034, -8.1399,  7.1136,  5.2079,  7.3243],\n",
       "           [ 3.4940,  5.7915,  4.7056,  5.1905,  6.5676],\n",
       "           [-0.6001,  2.7191,  1.1037, -1.6773,  5.7662],\n",
       "           [-6.3214,  2.6641,  7.4938, -6.0110,  7.3008]],\n",
       " \n",
       "          [[ 7.9336, -4.3125, -2.5348, -3.6280, -1.3247],\n",
       "           [ 0.2508,  3.6769,  4.9325, -2.1852, -2.3748],\n",
       "           [ 0.9458,  7.7949, -0.1741,  3.1882,  3.5303],\n",
       "           [ 1.8388, -2.0304, -0.6923,  5.8729,  6.5670],\n",
       "           [-0.9894,  5.6946,  1.8595, -2.2129, -5.1135]],\n",
       " \n",
       "          [[ 3.0334, -7.0868, -6.2475,  5.0811, -2.7244],\n",
       "           [-4.1630, -6.9752,  7.2159, -1.7837,  6.3609],\n",
       "           [ 5.5107, -6.1193, -4.5519,  3.8332,  7.5872],\n",
       "           [-3.4962,  3.8321, -3.0518,  6.1816, -4.8339],\n",
       "           [ 8.1540,  4.0427, -1.6479, -0.0673, -7.6931]],\n",
       " \n",
       "          [[-5.0968, -3.9053, -4.8602,  1.8325, -3.9896],\n",
       "           [ 4.2160, -2.5759,  4.1118, -1.8921,  2.6056],\n",
       "           [-4.8723,  2.3420, -7.7076,  5.6548,  0.4948],\n",
       "           [-4.6447,  4.3432,  7.6068, -7.5243, -6.6838],\n",
       "           [-2.3510, -3.6665, -7.0787,  0.0330,  7.2570]],\n",
       " \n",
       "          [[-8.1001,  7.3349, -4.3481,  2.6929, -3.2605],\n",
       "           [ 2.7723,  2.7056, -6.7697,  0.8131,  7.3906],\n",
       "           [-7.4388, -2.8992, -5.7512, -5.4073,  6.3467],\n",
       "           [ 7.8209, -0.9397, -4.9991,  2.6538, -0.7460],\n",
       "           [-1.0914, -5.5690,  0.5907, -6.1851, -2.8814]]],\n",
       " \n",
       " \n",
       "         [[[-7.9101,  3.2056,  0.5180, -7.6640, -0.4740],\n",
       "           [-7.5943, -2.4612,  0.1482, -1.6004,  5.0204],\n",
       "           [-3.3733, -5.1482, -2.1678,  6.8095,  0.1829],\n",
       "           [-5.4515,  5.5072,  6.2060, -3.5324, -0.6424],\n",
       "           [-1.8153, -6.5288,  0.5047,  3.2586, -4.9583]],\n",
       " \n",
       "          [[-6.4549, -3.1440,  4.6286, -1.0128, -4.7952],\n",
       "           [ 5.4638, -3.6457,  6.0805,  2.9058,  2.2811],\n",
       "           [-6.3806,  2.0124, -5.3936, -4.5369,  7.2952],\n",
       "           [ 5.7398,  2.9605, -5.0215,  1.7528,  7.9020],\n",
       "           [ 3.8116, -8.1104, -0.4738,  4.0518,  1.1904]],\n",
       " \n",
       "          [[ 7.3012,  5.4990, -2.3277, -1.2516,  3.4486],\n",
       "           [-4.7553,  7.8880,  1.8265,  6.5507, -2.8061],\n",
       "           [-4.8390, -7.2539,  7.1770, -4.5013,  0.8844],\n",
       "           [-5.8159, -1.5366,  4.8255, -5.9864, -3.6305],\n",
       "           [ 7.6364, -0.6870,  1.1958,  6.2725, -4.1714]],\n",
       " \n",
       "          [[ 7.0853, -5.2746, -2.5274,  2.5283, -6.9871],\n",
       "           [ 2.5686, -3.5646,  3.6085,  6.7751, -5.2367],\n",
       "           [ 3.1628,  3.4790, -5.5176,  7.1922,  5.9820],\n",
       "           [ 3.9653, -1.5844,  0.7874,  5.9700, -5.8120],\n",
       "           [-7.8726,  4.2337,  4.8646, -3.0149,  0.8399]],\n",
       " \n",
       "          [[-1.3781, -3.0511,  1.2040,  5.7776, -3.9349],\n",
       "           [ 4.7709, -5.6803,  1.0823,  5.0570,  8.0891],\n",
       "           [-7.3205,  2.1334,  2.2065, -5.7902,  0.0321],\n",
       "           [-5.9065, -5.0934, -2.0405, -4.3598, -3.3906],\n",
       "           [-7.1657, -1.1438, -0.8623, -2.7070,  5.5421]],\n",
       " \n",
       "          [[-1.7465, -7.3095,  7.2091, -6.0711, -2.1015],\n",
       "           [ 2.4971,  7.9151, -0.9160, -2.3065,  0.0207],\n",
       "           [-1.3557, -6.2244,  1.6488,  6.6480,  7.9394],\n",
       "           [-8.0197, -0.9972, -4.1804,  5.7353, -6.8857],\n",
       "           [ 4.4752,  6.6962, -5.4278, -5.7292,  0.9863]]]]),\n",
       " Parameter containing:\n",
       " tensor(1.00000e-02 *\n",
       "        [ 3.2949, -3.3950,  2.4204, -1.1061,  6.6061,  5.0987,  6.2338,\n",
       "         -6.8998, -7.6680,  7.9680,  0.7446, -4.1084,  1.8137, -0.1770,\n",
       "          6.4743, -6.3668]),\n",
       " Parameter containing:\n",
       " tensor([[-2.4164e-02,  8.2944e-03,  3.9621e-02,  ...,  3.7376e-02,\n",
       "           2.9393e-03, -4.3607e-02],\n",
       "         [-4.4067e-02,  2.1821e-02, -1.0709e-02,  ...,  1.3265e-02,\n",
       "          -1.2399e-02, -2.7052e-03],\n",
       "         [ 1.2126e-03, -2.1138e-02, -9.5651e-03,  ..., -2.3208e-02,\n",
       "          -4.8373e-02, -2.4197e-02],\n",
       "         ...,\n",
       "         [-1.7016e-02, -1.8659e-02, -1.1787e-02,  ...,  3.6348e-03,\n",
       "           3.7944e-02, -4.4074e-02],\n",
       "         [-3.7279e-02, -7.1361e-03, -4.6465e-02,  ...,  2.2334e-02,\n",
       "          -4.8230e-02, -2.2837e-02],\n",
       "         [ 2.5793e-02,  3.2887e-02, -4.8189e-02,  ...,  4.8159e-02,\n",
       "           2.4957e-02,  1.8682e-02]]),\n",
       " Parameter containing:\n",
       " tensor(1.00000e-02 *\n",
       "        [ 1.2635, -1.6882, -0.3341, -4.9842,  3.8204,  3.7565, -3.9950,\n",
       "         -1.0325,  3.3486, -4.6290, -2.7183, -3.4848,  3.3506,  1.5048,\n",
       "          4.0206, -0.8898,  1.7134,  1.7094,  1.4442, -4.2335,  4.2330,\n",
       "         -1.8940,  2.4612,  4.2630,  4.7439,  0.0243, -2.0656, -2.7776,\n",
       "         -4.0013,  0.2225,  4.9263,  2.3432,  2.4737, -0.0832, -0.2112,\n",
       "         -0.0242, -2.8252,  4.7895, -1.3217, -4.3101,  2.6123, -4.7722,\n",
       "          4.0186, -3.2958,  2.5884, -2.0884,  1.1191, -4.5945, -2.0717,\n",
       "          4.1243, -1.9756,  3.1738, -4.8170,  2.3590,  0.9907,  4.1367,\n",
       "          4.4702,  3.5906,  3.9611, -2.0279,  4.5013, -2.2675, -4.9085,\n",
       "          2.2244,  4.2539, -1.8087,  2.0706, -3.2286,  0.6115,  3.5823,\n",
       "         -2.3472,  1.3667, -0.9032,  0.9243, -2.4444, -4.5679, -1.2047,\n",
       "          3.4631,  3.2752, -2.5573, -2.9787, -4.4572, -3.6628, -3.5769,\n",
       "          0.6056,  2.7382, -2.4486, -0.8514, -1.6409,  1.0175,  1.7520,\n",
       "         -2.1046,  3.3298,  4.9469,  2.5926,  1.2237,  1.9927, -0.5323,\n",
       "          4.8014,  0.5061,  4.9665, -4.9616,  3.0905,  2.1736,  1.8203,\n",
       "         -0.9474,  3.1303, -3.3445,  4.9864, -3.6357, -2.8311,  0.7258,\n",
       "         -3.9105,  3.3455, -3.4999,  2.5290, -0.1695, -3.6780, -1.9274,\n",
       "         -2.7840]),\n",
       " Parameter containing:\n",
       " tensor(1.00000e-02 *\n",
       "        [[-3.5007,  8.5737,  2.8831,  ..., -8.6611, -2.9888,  7.6829],\n",
       "         [-2.4077, -2.4378, -2.8529,  ...,  8.2878,  4.0883,  6.7811],\n",
       "         [ 1.2640, -8.2520, -5.5894,  ...,  2.1028,  1.4024, -2.7145],\n",
       "         ...,\n",
       "         [ 1.0577, -5.4108,  7.4523,  ..., -2.4398, -4.7392, -4.3798],\n",
       "         [ 4.0206, -7.0936, -5.8470,  ...,  3.4795, -5.7680, -0.3815],\n",
       "         [ 2.6307,  1.0166, -0.2533,  ...,  2.3551,  7.9023, -5.1686]]),\n",
       " Parameter containing:\n",
       " tensor(1.00000e-02 *\n",
       "        [ 8.7380,  0.1416, -2.7215, -5.6043,  2.2142, -4.8781,  8.2405,\n",
       "          8.1729, -1.9541, -5.0554, -7.7592, -1.7941,  4.5933, -1.4586,\n",
       "          0.1189,  3.8279,  8.7048,  5.5758, -5.7113, -6.7653, -1.0045,\n",
       "          4.3506,  7.1885, -4.8576,  2.8592, -7.2254, -8.5752,  1.7142,\n",
       "         -0.0830, -4.4800, -5.4241, -6.6187,  7.3332, -9.0528,  6.6974,\n",
       "         -6.4539, -1.7131, -8.3058,  0.7318,  7.2031, -7.9907, -4.7070,\n",
       "          4.3477,  0.0020,  5.4104,  3.1732, -4.2741,  6.6719,  5.4204,\n",
       "         -5.2867,  4.8179,  8.3821, -3.4756, -6.6681,  1.8906,  0.0537,\n",
       "         -7.4249,  8.0555, -6.8067, -5.1698, -8.5547,  6.4063, -3.3129,\n",
       "         -7.4790,  8.6982, -8.5703,  7.8926,  9.1099, -7.8728, -6.0969,\n",
       "         -9.0671,  0.3478, -7.0732,  5.2152,  5.1843,  1.3595,  1.6634,\n",
       "          2.2045,  0.0215,  2.5068,  1.9625,  6.1378,  7.8124,  7.8749]),\n",
       " Parameter containing:\n",
       " tensor([[ 0.0485,  0.0877, -0.0284,  0.0907, -0.0830,  0.0252,  0.0106,\n",
       "          -0.1043, -0.0768,  0.0321,  0.0062, -0.0552,  0.0986,  0.0399,\n",
       "          -0.0709,  0.1054, -0.0257,  0.0275, -0.1052,  0.0586, -0.0245,\n",
       "           0.1048, -0.0206,  0.0871,  0.0509, -0.0749,  0.0777, -0.0025,\n",
       "          -0.0191,  0.0711,  0.0430, -0.0069,  0.0364,  0.0096,  0.0225,\n",
       "          -0.0590, -0.0645, -0.0737, -0.0042, -0.0909, -0.0091,  0.0474,\n",
       "           0.0662, -0.1011,  0.0945, -0.1020, -0.0064, -0.0206, -0.0379,\n",
       "           0.0921, -0.1010, -0.0154, -0.0093, -0.0447,  0.0625, -0.0707,\n",
       "           0.0633,  0.0132,  0.0748, -0.0772, -0.0808, -0.0886,  0.0487,\n",
       "           0.0835,  0.0961, -0.0410,  0.0115,  0.0027,  0.0932,  0.0789,\n",
       "          -0.0633,  0.0308, -0.0485, -0.0228, -0.0148,  0.1054,  0.0136,\n",
       "           0.0800, -0.0718,  0.0537, -0.0887, -0.0418, -0.0746,  0.0701],\n",
       "         [ 0.0419, -0.0109, -0.0822, -0.0547,  0.0330, -0.0940, -0.0779,\n",
       "          -0.0186,  0.0137, -0.0249, -0.0991, -0.1004,  0.0766, -0.0599,\n",
       "           0.0450,  0.0146, -0.0757,  0.1075,  0.0951,  0.0318, -0.0185,\n",
       "           0.0576,  0.0264, -0.0519, -0.1016, -0.0856,  0.0165,  0.0069,\n",
       "           0.0361,  0.0524,  0.0692,  0.0822, -0.0431,  0.0152,  0.0735,\n",
       "           0.0144, -0.1039, -0.0318, -0.0604,  0.0794,  0.0201,  0.0355,\n",
       "           0.0275,  0.0727,  0.0646,  0.0123, -0.0293, -0.0721, -0.0496,\n",
       "          -0.0043, -0.0710,  0.0096,  0.1040,  0.0328,  0.0759,  0.0962,\n",
       "          -0.0382, -0.0579,  0.0208,  0.0445,  0.0073, -0.0046, -0.0136,\n",
       "          -0.0374,  0.0555, -0.0614, -0.1078, -0.1065,  0.0290,  0.0571,\n",
       "           0.0608, -0.0666, -0.0571,  0.0974,  0.0870,  0.0759, -0.0991,\n",
       "           0.0001, -0.0955,  0.0505, -0.0297,  0.0202, -0.0328,  0.0757],\n",
       "         [ 0.0929, -0.0208,  0.0698, -0.1064, -0.0300, -0.0624, -0.0916,\n",
       "           0.0542,  0.1030, -0.0873,  0.0639, -0.0936, -0.1055, -0.0554,\n",
       "          -0.0789, -0.0762, -0.0417,  0.0822,  0.0903,  0.0400,  0.0940,\n",
       "           0.0456,  0.0303,  0.0981,  0.0554, -0.0317, -0.0078,  0.1053,\n",
       "           0.1027,  0.0797,  0.0113, -0.0961,  0.0630,  0.0860,  0.0658,\n",
       "          -0.0945,  0.0579, -0.0676,  0.0120,  0.0695,  0.0103,  0.0611,\n",
       "          -0.0390,  0.0989,  0.0284, -0.0385,  0.0371,  0.0375, -0.0695,\n",
       "          -0.0827, -0.0312,  0.0149,  0.0400,  0.0254, -0.0071, -0.0155,\n",
       "          -0.0113, -0.0620,  0.0505,  0.0579,  0.0300, -0.0105, -0.0728,\n",
       "          -0.1023, -0.0285,  0.1082,  0.0183,  0.0073, -0.0361, -0.0067,\n",
       "          -0.1079, -0.0188, -0.0540,  0.0210,  0.1071,  0.0420, -0.0562,\n",
       "          -0.0870, -0.1033,  0.0454, -0.0281,  0.0403,  0.0376,  0.0883],\n",
       "         [ 0.0154,  0.0806, -0.0799,  0.0265,  0.0266, -0.0416,  0.1000,\n",
       "           0.1042, -0.0406,  0.0682,  0.0857,  0.0717, -0.0707, -0.0202,\n",
       "           0.0407,  0.0764, -0.0486, -0.0089,  0.0012,  0.0278, -0.1056,\n",
       "          -0.0481, -0.0900, -0.0843,  0.0819, -0.0571,  0.0415,  0.0833,\n",
       "           0.0538, -0.0103,  0.0182,  0.0909, -0.0411, -0.0778, -0.0881,\n",
       "           0.0004,  0.0458,  0.0624,  0.0037,  0.0778,  0.0209, -0.0353,\n",
       "          -0.0036,  0.0341,  0.1071,  0.0315,  0.0052, -0.0055,  0.0630,\n",
       "           0.1074,  0.0031, -0.0586, -0.0034,  0.1029, -0.0632,  0.0943,\n",
       "           0.0128,  0.0740, -0.1004, -0.0442,  0.1045,  0.0981,  0.1089,\n",
       "           0.0668, -0.0254, -0.0289, -0.0869, -0.0706,  0.0576, -0.0592,\n",
       "          -0.1054,  0.0237,  0.0818,  0.0326, -0.0905,  0.0374,  0.0116,\n",
       "           0.0427,  0.0928,  0.0311,  0.0759,  0.0097,  0.0515, -0.0260],\n",
       "         [ 0.0602,  0.0392,  0.0373,  0.0296,  0.0480,  0.0714,  0.0111,\n",
       "           0.0901, -0.0827, -0.0909,  0.0805, -0.0381,  0.0637, -0.0025,\n",
       "          -0.0288, -0.0015, -0.1051,  0.0697, -0.0071, -0.1074,  0.0174,\n",
       "           0.0951, -0.0747,  0.0211, -0.1029,  0.0479, -0.0769,  0.0969,\n",
       "           0.0523,  0.0225,  0.0515, -0.1022, -0.1050, -0.0376, -0.0486,\n",
       "          -0.0660,  0.0167,  0.0725, -0.0425,  0.0644, -0.1044, -0.0995,\n",
       "          -0.0699,  0.0567,  0.0396,  0.0930, -0.0578, -0.0843,  0.0262,\n",
       "           0.0289, -0.0714, -0.0986,  0.0179,  0.0135,  0.0958, -0.0249,\n",
       "           0.0010,  0.0182,  0.0902,  0.1064,  0.0927, -0.0177, -0.0228,\n",
       "           0.0238,  0.0028,  0.0665,  0.0794, -0.0206,  0.0243, -0.0818,\n",
       "          -0.0703,  0.0625, -0.0738, -0.0319,  0.0256, -0.1011,  0.0702,\n",
       "           0.0566, -0.0198, -0.0984,  0.0409,  0.1033, -0.0926,  0.1081],\n",
       "         [ 0.0115, -0.1006,  0.0321, -0.0923, -0.1055, -0.0003,  0.0786,\n",
       "          -0.0787, -0.1057,  0.0950, -0.0528,  0.0067, -0.0845, -0.0073,\n",
       "          -0.0839,  0.0203, -0.0197, -0.0060,  0.0580,  0.0094,  0.0367,\n",
       "           0.0239, -0.0869,  0.0150, -0.0909, -0.0425,  0.0717,  0.0036,\n",
       "           0.0175,  0.0422,  0.0163,  0.0469, -0.0526, -0.0359,  0.0926,\n",
       "          -0.0522, -0.0065,  0.0927,  0.0290,  0.0737,  0.0955, -0.0571,\n",
       "          -0.0707, -0.0680,  0.0088, -0.0959,  0.0418, -0.0575,  0.0804,\n",
       "          -0.0219,  0.0579,  0.0765, -0.0224,  0.1071,  0.0685, -0.0307,\n",
       "           0.0846,  0.0858, -0.0258,  0.1061,  0.1053, -0.0101,  0.0149,\n",
       "           0.0644, -0.0817,  0.0354, -0.0353, -0.0877,  0.0621, -0.0730,\n",
       "           0.1054, -0.0428, -0.0465,  0.0534,  0.0421, -0.0905,  0.0337,\n",
       "           0.0743,  0.1029, -0.0991,  0.0066,  0.0016, -0.0606,  0.0409],\n",
       "         [-0.0097,  0.0804, -0.1010,  0.0747, -0.0813, -0.0730, -0.0381,\n",
       "          -0.0842,  0.0957, -0.0109,  0.0225,  0.0849,  0.0364,  0.0182,\n",
       "          -0.0512,  0.0615,  0.1081,  0.0966, -0.0126,  0.0050,  0.0960,\n",
       "          -0.0294, -0.0880, -0.0746, -0.0204,  0.0575, -0.0797,  0.0522,\n",
       "          -0.0230, -0.0504,  0.0346, -0.0507, -0.0697, -0.0745,  0.0817,\n",
       "           0.0129, -0.1053, -0.0558, -0.0987, -0.0984, -0.0873, -0.0045,\n",
       "          -0.0204,  0.0566,  0.0029, -0.0922, -0.1062,  0.0801,  0.0681,\n",
       "           0.0117,  0.0475,  0.0325,  0.0031,  0.0748,  0.0804, -0.0618,\n",
       "          -0.0488,  0.0243,  0.0979,  0.1061,  0.0360, -0.0981, -0.0361,\n",
       "           0.1066, -0.1016,  0.0775, -0.0672, -0.0497,  0.0650,  0.0648,\n",
       "           0.0454,  0.0021,  0.0805,  0.1067, -0.0941, -0.0402,  0.0415,\n",
       "           0.0162,  0.0797, -0.0870, -0.0569, -0.0346,  0.0542, -0.0954],\n",
       "         [-0.1083, -0.1074,  0.0057,  0.0110,  0.0299, -0.1041,  0.0146,\n",
       "           0.0033, -0.0389,  0.0860, -0.0598, -0.1042, -0.0987, -0.0268,\n",
       "          -0.0941,  0.0750,  0.0056,  0.0308, -0.0577,  0.0142,  0.0130,\n",
       "          -0.0229, -0.0224,  0.0560, -0.0188, -0.0571,  0.0979,  0.0338,\n",
       "           0.0164, -0.0905, -0.0324, -0.1008, -0.0735, -0.1086,  0.0023,\n",
       "          -0.0639,  0.0524,  0.0746,  0.0922,  0.0681, -0.1015,  0.0906,\n",
       "          -0.0122, -0.0918, -0.0813,  0.0842, -0.0637,  0.0358, -0.0206,\n",
       "           0.0773, -0.0528, -0.0049, -0.0697,  0.1052,  0.0860, -0.0021,\n",
       "           0.0152, -0.0804,  0.0804, -0.0951,  0.0267, -0.0570, -0.0862,\n",
       "           0.0867, -0.0334, -0.0571,  0.1087, -0.0245, -0.0645, -0.0958,\n",
       "           0.0660, -0.0943, -0.0794,  0.0286,  0.0863,  0.0498,  0.0223,\n",
       "           0.0573,  0.0075,  0.0761,  0.0338,  0.0864, -0.0305,  0.0147],\n",
       "         [ 0.1036,  0.0487,  0.0393, -0.0117,  0.0484, -0.0722, -0.0735,\n",
       "          -0.0896, -0.0931, -0.0740, -0.0349,  0.0785, -0.0532,  0.0683,\n",
       "          -0.0477,  0.0749, -0.0774,  0.0746,  0.0812,  0.0798, -0.0200,\n",
       "          -0.0942, -0.0551, -0.1050,  0.0082, -0.0297,  0.0444, -0.0094,\n",
       "           0.0802,  0.0247, -0.1055,  0.0365, -0.0290,  0.0901, -0.0200,\n",
       "           0.0807,  0.0679, -0.0563, -0.0607,  0.0448,  0.0861, -0.0698,\n",
       "          -0.0332,  0.0062, -0.0358,  0.0902,  0.0170,  0.0067,  0.0545,\n",
       "           0.0463,  0.0380, -0.0818, -0.0255,  0.0636,  0.1071, -0.0212,\n",
       "           0.1014, -0.0754, -0.0229,  0.0038,  0.0241, -0.0538,  0.0432,\n",
       "           0.0228, -0.0337,  0.0968, -0.0955,  0.0312,  0.0136,  0.0537,\n",
       "           0.0751, -0.0339,  0.0103,  0.0274, -0.0135,  0.0607,  0.0609,\n",
       "           0.1035, -0.0435, -0.0329,  0.0523,  0.0062,  0.0401, -0.0447],\n",
       "         [ 0.0919,  0.0255,  0.0188,  0.0835, -0.0671, -0.0463,  0.0623,\n",
       "           0.0676,  0.0511, -0.0302,  0.0665,  0.0591, -0.0824, -0.0097,\n",
       "          -0.0735, -0.0410, -0.0247,  0.0277, -0.0752,  0.0673, -0.0408,\n",
       "           0.0047, -0.0798, -0.0165,  0.0227,  0.0011, -0.0135,  0.0522,\n",
       "           0.0160, -0.0341, -0.0831, -0.0058,  0.0269, -0.0838, -0.0072,\n",
       "           0.0250, -0.0223,  0.0653, -0.0075,  0.0976,  0.0539,  0.0689,\n",
       "           0.0857, -0.1017, -0.0187,  0.0880, -0.0556,  0.0912, -0.0421,\n",
       "          -0.0922, -0.0238, -0.0246,  0.0393, -0.0189, -0.0430,  0.0379,\n",
       "          -0.0234, -0.0341, -0.0913,  0.0271,  0.0949, -0.0511,  0.1058,\n",
       "           0.0519,  0.0721, -0.0946, -0.0945,  0.0487,  0.0867, -0.0943,\n",
       "          -0.0524,  0.0013,  0.0732,  0.0595, -0.0470,  0.0115, -0.0699,\n",
       "          -0.0618, -0.1091, -0.0131,  0.0944,  0.0207,  0.0860, -0.0205]]),\n",
       " Parameter containing:\n",
       " tensor([-0.0098,  0.0457,  0.0588,  0.0716, -0.0603, -0.0479,  0.0244,\n",
       "          0.0154, -0.1050,  0.0671])]"
      ]
     },
     "execution_count": 42,
     "metadata": {},
     "output_type": "execute_result"
    }
   ],
   "source": [
    "list(net.parameters())"
   ]
  },
  {
   "cell_type": "code",
   "execution_count": 43,
   "metadata": {},
   "outputs": [
    {
     "name": "stdout",
     "output_type": "stream",
     "text": [
      "Net(\n",
      "  (conv1): Conv2d(1, 6, kernel_size=(5, 5), stride=(1, 1))\n",
      "  (conv2): Conv2d(6, 16, kernel_size=(5, 5), stride=(1, 1))\n",
      "  (fc1): Linear(in_features=400, out_features=120, bias=True)\n",
      "  (fc2): Linear(in_features=120, out_features=84, bias=True)\n",
      "  (fc3): Linear(in_features=84, out_features=10, bias=True)\n",
      ")\n"
     ]
    }
   ],
   "source": [
    "print(net)"
   ]
  },
  {
   "cell_type": "code",
   "execution_count": 44,
   "metadata": {},
   "outputs": [],
   "source": [
    "input = torch.randn(1, 1, 32, 32)"
   ]
  },
  {
   "cell_type": "code",
   "execution_count": 45,
   "metadata": {},
   "outputs": [
    {
     "data": {
      "text/plain": [
       "tensor([[[[ 0.3406, -0.0197, -0.2815,  ..., -1.2823, -0.4931, -1.6059],\n",
       "          [-0.3389, -0.1813,  0.1557,  ..., -0.7175, -0.1840, -0.0489],\n",
       "          [ 0.7238,  2.0168,  0.6974,  ...,  0.4254,  0.3735,  1.4088],\n",
       "          ...,\n",
       "          [ 0.0523, -0.0912, -0.3720,  ...,  0.5842,  0.7842, -0.0110],\n",
       "          [-1.3825,  0.3509, -1.1338,  ..., -0.1775,  1.5444,  0.7458],\n",
       "          [ 0.1121, -0.3691,  1.3238,  ...,  0.0627,  0.6420,  0.3186]]]])"
      ]
     },
     "execution_count": 45,
     "metadata": {},
     "output_type": "execute_result"
    }
   ],
   "source": [
    "input"
   ]
  },
  {
   "cell_type": "code",
   "execution_count": 46,
   "metadata": {},
   "outputs": [
    {
     "name": "stdout",
     "output_type": "stream",
     "text": [
      "tensor([[-0.0004,  0.0625,  0.0938,  0.0906, -0.0855, -0.0417,  0.0112,\n",
      "          0.0192, -0.1284,  0.0166]])\n"
     ]
    }
   ],
   "source": [
    "print(net(input))"
   ]
  },
  {
   "cell_type": "code",
   "execution_count": 17,
   "metadata": {},
   "outputs": [],
   "source": [
    "net.zero_grad()"
   ]
  },
  {
   "cell_type": "code",
   "execution_count": 19,
   "metadata": {},
   "outputs": [],
   "source": [
    "net(input)"
   ]
  },
  {
   "cell_type": "code",
   "execution_count": 47,
   "metadata": {},
   "outputs": [
    {
     "data": {
      "text/plain": [
       "tensor([[[[ 0.3406, -0.0197, -0.2815,  ..., -1.2823, -0.4931, -1.6059],\n",
       "          [-0.3389, -0.1813,  0.1557,  ..., -0.7175, -0.1840, -0.0489],\n",
       "          [ 0.7238,  2.0168,  0.6974,  ...,  0.4254,  0.3735,  1.4088],\n",
       "          ...,\n",
       "          [ 0.0523, -0.0912, -0.3720,  ...,  0.5842,  0.7842, -0.0110],\n",
       "          [-1.3825,  0.3509, -1.1338,  ..., -0.1775,  1.5444,  0.7458],\n",
       "          [ 0.1121, -0.3691,  1.3238,  ...,  0.0627,  0.6420,  0.3186]]]])"
      ]
     },
     "execution_count": 47,
     "metadata": {},
     "output_type": "execute_result"
    }
   ],
   "source": [
    "input"
   ]
  },
  {
   "cell_type": "code",
   "execution_count": 48,
   "metadata": {},
   "outputs": [],
   "source": [
    "out = net(input)"
   ]
  },
  {
   "cell_type": "code",
   "execution_count": 49,
   "metadata": {},
   "outputs": [
    {
     "data": {
      "text/plain": [
       "tensor([[-0.0004,  0.0625,  0.0938,  0.0906, -0.0855, -0.0417,  0.0112,\n",
       "          0.0192, -0.1284,  0.0166]])"
      ]
     },
     "execution_count": 49,
     "metadata": {},
     "output_type": "execute_result"
    }
   ],
   "source": [
    "out"
   ]
  },
  {
   "cell_type": "code",
   "execution_count": 50,
   "metadata": {},
   "outputs": [
    {
     "name": "stdout",
     "output_type": "stream",
     "text": [
      "tensor([[-0.0004,  0.0625,  0.0938,  0.0906, -0.0855, -0.0417,  0.0112,\n",
      "          0.0192, -0.1284,  0.0166]])\n"
     ]
    }
   ],
   "source": [
    "print(out)"
   ]
  },
  {
   "cell_type": "code",
   "execution_count": 51,
   "metadata": {},
   "outputs": [],
   "source": [
    "net.zero_grad()"
   ]
  },
  {
   "cell_type": "code",
   "execution_count": 52,
   "metadata": {},
   "outputs": [],
   "source": [
    "out.backward(torch.randn(1,10))"
   ]
  },
  {
   "cell_type": "code",
   "execution_count": 53,
   "metadata": {},
   "outputs": [],
   "source": [
    "output = net(input)"
   ]
  },
  {
   "cell_type": "code",
   "execution_count": 54,
   "metadata": {},
   "outputs": [],
   "source": [
    "target = torch.arange(1, 11)\n",
    "target = target.view(1, -1)"
   ]
  },
  {
   "cell_type": "code",
   "execution_count": 55,
   "metadata": {},
   "outputs": [],
   "source": [
    "criterion = nn.MSELoss()"
   ]
  },
  {
   "cell_type": "code",
   "execution_count": 56,
   "metadata": {},
   "outputs": [],
   "source": [
    "loss = criterion(output, target)"
   ]
  },
  {
   "cell_type": "code",
   "execution_count": 57,
   "metadata": {},
   "outputs": [
    {
     "data": {
      "text/plain": [
       "tensor(38.6380)"
      ]
     },
     "execution_count": 57,
     "metadata": {},
     "output_type": "execute_result"
    }
   ],
   "source": [
    "loss"
   ]
  },
  {
   "cell_type": "code",
   "execution_count": 58,
   "metadata": {},
   "outputs": [
    {
     "data": {
      "text/plain": [
       "<MseLossBackward at 0x7f96f2cce0f0>"
      ]
     },
     "execution_count": 58,
     "metadata": {},
     "output_type": "execute_result"
    }
   ],
   "source": [
    "loss.grad_fn"
   ]
  },
  {
   "cell_type": "code",
   "execution_count": 59,
   "metadata": {},
   "outputs": [
    {
     "data": {
      "text/plain": [
       "<AddmmBackward at 0x7f96f2cce860>"
      ]
     },
     "execution_count": 59,
     "metadata": {},
     "output_type": "execute_result"
    }
   ],
   "source": [
    "loss.grad_fn.next_functions[0][0]"
   ]
  },
  {
   "cell_type": "code",
   "execution_count": 60,
   "metadata": {},
   "outputs": [
    {
     "data": {
      "text/plain": [
       "<ExpandBackward at 0x7f96f209b2e8>"
      ]
     },
     "execution_count": 60,
     "metadata": {},
     "output_type": "execute_result"
    }
   ],
   "source": [
    "loss.grad_fn.next_functions[0][0].next_functions[0][0]"
   ]
  },
  {
   "cell_type": "code",
   "execution_count": 61,
   "metadata": {},
   "outputs": [],
   "source": [
    "net.zero_grad()"
   ]
  },
  {
   "cell_type": "code",
   "execution_count": 62,
   "metadata": {},
   "outputs": [
    {
     "data": {
      "text/plain": [
       "tensor([ 0.,  0.,  0.,  0.,  0.,  0.])"
      ]
     },
     "execution_count": 62,
     "metadata": {},
     "output_type": "execute_result"
    }
   ],
   "source": [
    "net.conv1.bias.grad"
   ]
  },
  {
   "cell_type": "code",
   "execution_count": 63,
   "metadata": {},
   "outputs": [],
   "source": [
    "loss.backward()"
   ]
  },
  {
   "cell_type": "code",
   "execution_count": 64,
   "metadata": {},
   "outputs": [
    {
     "data": {
      "text/plain": [
       "tensor([ 0.0331,  0.0269,  0.1131, -0.0739,  0.0943,  0.0901])"
      ]
     },
     "execution_count": 64,
     "metadata": {},
     "output_type": "execute_result"
    }
   ],
   "source": [
    "net.conv1.bias.grad"
   ]
  },
  {
   "cell_type": "code",
   "execution_count": 65,
   "metadata": {},
   "outputs": [],
   "source": [
    "learning_rate = 0.01"
   ]
  },
  {
   "cell_type": "code",
   "execution_count": 66,
   "metadata": {},
   "outputs": [],
   "source": [
    "for f in net.parameters():\n",
    "    f.data.sub_(f.grad.data * learning_rate)"
   ]
  },
  {
   "cell_type": "code",
   "execution_count": 67,
   "metadata": {},
   "outputs": [],
   "source": [
    "import torch.optim as optim"
   ]
  },
  {
   "cell_type": "code",
   "execution_count": 68,
   "metadata": {},
   "outputs": [],
   "source": [
    "optimizer = optim.SGD(net.parameters(), lr=0.01)"
   ]
  },
  {
   "cell_type": "code",
   "execution_count": 69,
   "metadata": {},
   "outputs": [],
   "source": [
    "optimizer.zero_grad()"
   ]
  },
  {
   "cell_type": "code",
   "execution_count": 70,
   "metadata": {},
   "outputs": [],
   "source": [
    "output = net(input)"
   ]
  },
  {
   "cell_type": "code",
   "execution_count": 71,
   "metadata": {},
   "outputs": [],
   "source": [
    "loss = criterion(output, target)"
   ]
  },
  {
   "cell_type": "code",
   "execution_count": 72,
   "metadata": {},
   "outputs": [],
   "source": [
    "loss.backward()\n",
    "optimizer.step()"
   ]
  },
  {
   "cell_type": "markdown",
   "metadata": {},
   "source": [
    "#### training a classifier"
   ]
  },
  {
   "cell_type": "code",
   "execution_count": 73,
   "metadata": {},
   "outputs": [
    {
     "data": {
      "text/plain": [
       "'\\nfor images you use Pillow, OpenCV\\nfor audio you use scipy, librosa\\nfor text you use Cython, NLTK and Spacy\\n'"
      ]
     },
     "execution_count": 73,
     "metadata": {},
     "output_type": "execute_result"
    }
   ],
   "source": [
    "'''\n",
    "for images you use Pillow, OpenCV\n",
    "for audio you use scipy, librosa\n",
    "for text you use Cython, NLTK and Spacy\n",
    "'''"
   ]
  },
  {
   "cell_type": "code",
   "execution_count": 74,
   "metadata": {},
   "outputs": [
    {
     "data": {
      "text/plain": [
       "'\\nsteps for an image classifier\\n1 loading and normalizing cifar10\\n2 define a convolutional neural network\\n3 define a loss function\\n4 train network\\n5 test network on test data set\\n'"
      ]
     },
     "execution_count": 74,
     "metadata": {},
     "output_type": "execute_result"
    }
   ],
   "source": [
    "'''\n",
    "steps for an image classifier\n",
    "1 loading and normalizing cifar10\n",
    "2 define a convolutional neural network\n",
    "3 define a loss function\n",
    "4 train network\n",
    "5 test network on test data set\n",
    "'''"
   ]
  },
  {
   "cell_type": "code",
   "execution_count": 75,
   "metadata": {},
   "outputs": [],
   "source": [
    "import torch\n",
    "import torchvision\n",
    "import torchvision.transforms as transforms "
   ]
  },
  {
   "cell_type": "code",
   "execution_count": 76,
   "metadata": {},
   "outputs": [
    {
     "data": {
      "text/plain": [
       "module"
      ]
     },
     "execution_count": 76,
     "metadata": {},
     "output_type": "execute_result"
    }
   ],
   "source": [
    "type(transforms)"
   ]
  },
  {
   "cell_type": "code",
   "execution_count": 77,
   "metadata": {},
   "outputs": [],
   "source": [
    "transform = transforms.Compose(\n",
    "    [transforms.ToTensor(),\n",
    "    transforms.Normalize((0.5, 0.5, 0.5),(0.5,0.5,0.5))]\n",
    "    )"
   ]
  },
  {
   "cell_type": "code",
   "execution_count": null,
   "metadata": {},
   "outputs": [],
   "source": [
    "trainset = torchvision.datasets.CIFAR10(root='./data', train=True,\n",
    "                                        download\n",
    "\n",
    "\n",
    "Jupyter Notebook\n",
    "PyTorch - getting started Current Kernel Logo \n",
    "\n",
    "Python 3\n",
    "\n",
    "    File\n",
    "    Edit\n",
    "    View\n",
    "    Insert\n",
    "    Cell\n",
    "    Kernel\n",
    "    Widgets\n",
    "    Help\n",
    "\n",
    "from __future__ import print_function\n",
    "\n",
    "import torch\n",
    "\n",
    "x = torch.empty(5,3) # a matrix uninitialized\n",
    "\n",
    "x\n",
    "\n",
    "tensor([[ 6.6900e-37,  0.0000e+00,  0.0000e+00],\n",
    "        [ 0.0000e+00,  0.0000e+00,  9.8091e-45],\n",
    "        [ 2.2792e+30,  4.5835e-41,  0.0000e+00],\n",
    "        [ 0.0000e+00,  4.6243e-44,  0.0000e+00],\n",
    "        [-5.5483e-21,  4.5835e-41,  6.6559e-37]])\n",
    "\n",
    "x\n",
    "\n",
    "tensor([[-5.5483e-21,  4.5835e-41,  6.4434e-37],\n",
    "        [ 0.0000e+00,  1.5304e-38,  0.0000e+00],\n",
    "        [ 1.5310e-38,  0.0000e+00,  1.5310e-38],\n",
    "        [ 0.0000e+00,  1.5301e-38,  0.0000e+00],\n",
    "        [ 1.5302e-38,  0.0000e+00,  2.6587e+36]])\n",
    "\n",
    "x = torch.rand(5,3) # a randomly initialized matrix \n",
    "\n",
    "x\n",
    "\n",
    "tensor([[ 0.0727,  0.4864,  0.7949],\n",
    "        [ 0.0121,  0.0622,  0.2173],\n",
    "        [ 0.1046,  0.1273,  0.2423],\n",
    "        [ 0.9699,  0.7599,  0.8353],\n",
    "        [ 0.9667,  0.4146,  0.5513]])\n",
    "\n",
    "x\n",
    "\n",
    "tensor([[ 0.2267,  0.5817,  0.4705],\n",
    "        [ 0.9847,  0.0536,  0.8254],\n",
    "        [ 0.3323,  0.1104,  0.7726],\n",
    "        [ 0.8145,  0.5537,  0.7712],\n",
    "        [ 0.8631,  0.3790,  0.5079]])\n",
    "\n",
    "x = torch.zeros(5,3) # a matrix filled zeros\n",
    "\n",
    "x\n",
    "\n",
    "tensor([[ 0.,  0.,  0.],\n",
    "        [ 0.,  0.,  0.],\n",
    "        [ 0.,  0.,  0.],\n",
    "        [ 0.,  0.,  0.],\n",
    "        [ 0.,  0.,  0.]])\n",
    "\n",
    "x = torch.tensor([1,2,3]) # constructing a tensor directly from data\n",
    "\n",
    "x\n",
    "\n",
    "tensor([ 1,  2,  3])\n",
    "\n",
    "y = x.new_ones(5,3, dtype=torch.double) # REUSING other tensor \n",
    "\n",
    "y\n",
    "\n",
    "tensor([[ 1.,  1.,  1.],\n",
    "        [ 1.,  1.,  1.],\n",
    "        [ 1.,  1.,  1.],\n",
    "        [ 1.,  1.,  1.],\n",
    "        [ 1.,  1.,  1.]], dtype=torch.float64)\n",
    "\n",
    "z = torch.rand_like(x, dtype=torch.float64) # use x like a template \n",
    "\n",
    "z\n",
    "\n",
    "tensor([ 0.1084,  0.5110,  0.6447], dtype=torch.float64)\n",
    "\n",
    "x\n",
    "\n",
    "tensor([ 1,  2,  3])\n",
    "\n",
    "x.ndimension(), x.shape, x.dtype, x.size()\n",
    "\n",
    "(1, torch.Size([3]), torch.int64, torch.Size([3]))\n",
    "\n",
    "type(x.size())\n",
    "\n",
    "torch.Size\n",
    "\n",
    "x\n",
    "\n",
    "tensor([ 1,  2,  3])\n",
    "\n",
    "y = torch.tensor([10,20,30])\n",
    "\n",
    "y\n",
    "\n",
    "tensor([ 10,  20,  30])\n",
    "\n",
    "x + y\n",
    "\n",
    "tensor([ 11,  22,  33])\n",
    "\n",
    "torch.add(x,y)\n",
    "\n",
    "tensor([ 11,  22,  33])\n",
    "\n",
    "x\n",
    "\n",
    "tensor([ 1,  2,  3])\n",
    "\n",
    "x.add_(x)\n",
    "\n",
    "tensor([ 2,  4,  6])\n",
    "\n",
    "x\n",
    "\n",
    "tensor([ 2,  4,  6])\n",
    "\n",
    "x[0]\n",
    "\n",
    "tensor(2)\n",
    "\n",
    "x[1]\n",
    "\n",
    "tensor(4)\n",
    "\n",
    "x\n",
    "\n",
    "tensor([ 2,  4,  6])\n",
    "\n",
    "x.view(3)\n",
    "\n",
    "tensor([ 2,  4,  6])\n",
    "\n",
    "x\n",
    "\n",
    "tensor([ 2,  4,  6])\n",
    "\n",
    "y = torch.randn(4,4)\n",
    "\n",
    "y\n",
    "\n",
    "tensor([[ 0.4806,  0.2113, -0.9202,  0.3682],\n",
    "        [-0.2789,  0.2357, -1.4946, -0.5951],\n",
    "        [-1.2733,  0.0195,  0.4074,  1.3711],\n",
    "        [ 1.0017, -0.3223,  0.4432, -0.4879]])\n",
    "\n",
    "y.view(16)\n",
    "\n",
    "tensor([ 0.4806,  0.2113, -0.9202,  0.3682, -0.2789,  0.2357, -1.4946,\n",
    "        -0.5951, -1.2733,  0.0195,  0.4074,  1.3711,  1.0017, -0.3223,\n",
    "         0.4432, -0.4879])\n",
    "\n",
    "y\n",
    "\n",
    "tensor([[ 0.4806,  0.2113, -0.9202,  0.3682],\n",
    "        [-0.2789,  0.2357, -1.4946, -0.5951],\n",
    "        [-1.2733,  0.0195,  0.4074,  1.3711],\n",
    "        [ 1.0017, -0.3223,  0.4432, -0.4879]])\n",
    "\n",
    "y.view(-1,8)\n",
    "\n",
    "tensor([[ 0.4806,  0.2113, -0.9202,  0.3682, -0.2789,  0.2357, -1.4946,\n",
    "         -0.5951],\n",
    "        [-1.2733,  0.0195,  0.4074,  1.3711,  1.0017, -0.3223,  0.4432,\n",
    "         -0.4879]])\n",
    "\n",
    "y\n",
    "\n",
    "tensor([[ 0.4806,  0.2113, -0.9202,  0.3682],\n",
    "        [-0.2789,  0.2357, -1.4946, -0.5951],\n",
    "        [-1.2733,  0.0195,  0.4074,  1.3711],\n",
    "        [ 1.0017, -0.3223,  0.4432, -0.4879]])\n",
    "\n",
    "z\n",
    "\n",
    "tensor([ 0.1084,  0.5110,  0.6447], dtype=torch.float64)\n",
    "\n",
    "r = torch.ones(1)\n",
    "\n",
    "r\n",
    "\n",
    "tensor([ 1.])\n",
    "\n",
    "r.item()\n",
    "\n",
    "1.0\n",
    "\n",
    "z\n",
    "\n",
    "tensor([ 0.1084,  0.5110,  0.6447], dtype=torch.float64)\n",
    "\n",
    "import numpy as np\n",
    "\n",
    "a = np.array(z)\n",
    "\n",
    "a\n",
    "\n",
    "array([0.1084469 , 0.5109915 , 0.64465092])\n",
    "\n",
    "z\n",
    "\n",
    "tensor([ 0.1084,  0.5110,  0.6447], dtype=torch.float64)\n",
    "\n",
    "b = torch.from_numpy(a)\n",
    "\n",
    "b\n",
    "\n",
    "tensor([ 0.1084,  0.5110,  0.6447], dtype=torch.float64)\n",
    "\n",
    "autograd package\n",
    "\n",
    "# central to all neural networks is autograd package \n",
    "\n",
    "# autograd provides \"automatic differentiation\" on tensors\n",
    "\n",
    "# its a define-by-run framework (every iteration can be different)\n",
    "\n",
    "x = torch.ones(2,2, requires_grad=True)\n",
    "\n",
    "x\n",
    "\n",
    "tensor([[ 1.,  1.],\n",
    "        [ 1.,  1.]])\n",
    "\n",
    "y = x + 2\n",
    "\n",
    "y\n",
    "\n",
    "tensor([[ 3.,  3.],\n",
    "        [ 3.,  3.]])\n",
    "\n",
    "y.grad_fn # created by an operation\n",
    "\n",
    "<AddBackward0 at 0x7fc5782afc18>\n",
    "\n",
    "x.grad_fn # created by hand-user\n",
    "\n",
    "y.mean()\n",
    "\n",
    "tensor(3.)\n",
    "\n",
    "x.requires_grad\n",
    "\n",
    "True\n",
    "\n",
    "x.requires_grad_()\n",
    "\n",
    "tensor([[ 1.,  1.],\n",
    "        [ 1.,  1.]])\n",
    "\n",
    "x\n",
    "\n",
    "tensor([[ 1.,  1.],\n",
    "        [ 1.,  1.]])\n",
    "\n",
    "y.requires_grad\n",
    "\n",
    "True\n",
    "\n",
    "x.mean()\n",
    "\n",
    "tensor(1.)\n",
    "\n",
    "x.mean().backward()\n",
    "\n",
    "x.grad\n",
    "\n",
    "tensor([[ 0.2500,  0.2500],\n",
    "        [ 0.2500,  0.2500]])\n",
    "\n",
    "x\n",
    "\n",
    "tensor([[ 1.,  1.],\n",
    "        [ 1.,  1.]])\n",
    "\n",
    "y\n",
    "\n",
    "tensor([[ 3.,  3.],\n",
    "        [ 3.,  3.]])\n",
    "\n",
    "y.grad\n",
    "\n",
    "y.mean()\n",
    "\n",
    "tensor(3.)\n",
    "\n",
    "y.mean().backward()\n",
    "\n",
    "y.grad\n",
    "\n",
    "r = torch.ones(2,2, requires_grad=True)\n",
    "\n",
    "r\n",
    "\n",
    "tensor([[ 1.,  1.],\n",
    "        [ 1.,  1.]])\n",
    "\n",
    "s = r*r + 5*r\n",
    "\n",
    "s.requires_grad, r.requires_grad\n",
    "\n",
    "(True, True)\n",
    "\n",
    "r\n",
    "\n",
    "tensor([[ 1.,  1.],\n",
    "        [ 1.,  1.]])\n",
    "\n",
    "s\n",
    "\n",
    "tensor([[ 6.,  6.],\n",
    "        [ 6.,  6.]])\n",
    "\n",
    "s.sum()\n",
    "\n",
    "tensor(24.)\n",
    "\n",
    "t = s.sum()\n",
    "\n",
    "t\n",
    "\n",
    "tensor(24.)\n",
    "\n",
    "r.grad\n",
    "\n",
    "tensor([[ 1.7500,  1.7500],\n",
    "        [ 1.7500,  1.7500]])\n",
    "\n",
    "print(r.grad)\n",
    "\n",
    "tensor([[ 1.7500,  1.7500],\n",
    "        [ 1.7500,  1.7500]])\n",
    "\n",
    "first example\n",
    "\n",
    "a = torch.ones(1, requires_grad=True)\n",
    "\n",
    "a\n",
    "\n",
    "tensor([ 1.])\n",
    "\n",
    "b = a*a\n",
    "\n",
    "b\n",
    "\n",
    "tensor([ 1.])\n",
    "\n",
    "c = b.mean()\n",
    "\n",
    "c\n",
    "\n",
    "tensor(1.)\n",
    "\n",
    "c.backward()\n",
    "\n",
    "a.grad\n",
    "\n",
    "tensor([ 2.])\n",
    "\n",
    "second example\n",
    "\n",
    "x = torch.ones(1, requires_grad=True)\n",
    "\n",
    "y = 3 * x * x + 5 * x\n",
    "\n",
    "y\n",
    "\n",
    "tensor([ 8.])\n",
    "\n",
    "x\n",
    "\n",
    "tensor([ 1.])\n",
    "\n",
    "z = y.mean()\n",
    "\n",
    "z.backward()\n",
    "\n",
    "x.grad\n",
    "\n",
    "tensor([ 11.])\n",
    "\n",
    "y.backward()\n",
    "\n",
    "y.grad\n",
    "\n",
    "y.ndimension()\n",
    "\n",
    "1\n",
    "\n",
    "x.ndimension()\n",
    "\n",
    "1\n",
    "\n",
    "y.shape\n",
    "\n",
    "torch.Size([1])\n",
    "\n",
    "z\n",
    "\n",
    "tensor(8.)\n",
    "\n",
    "z.shape\n",
    "\n",
    "torch.Size([])\n",
    "\n",
    "third example\n",
    "\n",
    "x = torch.ones(2,2, requires_grad=True)\n",
    "\n",
    "y = x * x\n",
    "\n",
    "x, y\n",
    "\n",
    "(tensor([[ 1.,  1.],\n",
    "         [ 1.,  1.]]), tensor([[ 1.,  1.],\n",
    "         [ 1.,  1.]]))\n",
    "\n",
    "x\n",
    "\n",
    "tensor([[ 1.,  1.],\n",
    "        [ 1.,  1.]])\n",
    "\n",
    "y\n",
    "\n",
    "tensor([[ 1.,  1.],\n",
    "        [ 1.,  1.]])\n",
    "\n",
    "x.ndimension(), y.ndimension()\n",
    "\n",
    "(2, 2)\n",
    "\n",
    "z = y.sum()\n",
    "\n",
    "z\n",
    "\n",
    "tensor(4.)\n",
    "\n",
    "z.ndimension()\n",
    "\n",
    "0\n",
    "\n",
    "z.backward()\n",
    "\n",
    "x.grad\n",
    "\n",
    "tensor([[ 2.,  2.],\n",
    "        [ 2.,  2.]])\n",
    "\n",
    "last example but now we calculate mean\n",
    "\n",
    "x = torch.ones(2,2, requires_grad=True)\n",
    "\n",
    "x\n",
    "\n",
    "tensor([[ 1.,  1.],\n",
    "        [ 1.,  1.]])\n",
    "\n",
    "y = x*x\n",
    "\n",
    "z = y.mean()\n",
    "\n",
    "z.backward()\n",
    "\n",
    "x.grad\n",
    "\n",
    "tensor([[ 0.5000,  0.5000],\n",
    "        [ 0.5000,  0.5000]])\n",
    "\n",
    "x.grad_fn\n",
    "\n",
    "y.grad_fn\n",
    "\n",
    "<MulBackward1 at 0x7fc57825c668>\n",
    "\n",
    "more examples\n",
    "\n",
    "x = torch.randn(3, requires_grad=True)\n",
    "\n",
    "x\n",
    "\n",
    "tensor([ 0.3799, -2.3042,  1.5493])\n",
    "\n",
    "y = x * 2 \n",
    "\n",
    "while y.data.norm() < 1000:\n",
    "\n",
    "    y = y * 2\n",
    "\n",
    "print(y)\n",
    "\n",
    "tensor([  194.4998, -1179.7489,   793.2573])\n",
    "\n",
    "x.requires_grad\n",
    "\n",
    "True\n",
    "\n",
    "(x**2).requires_grad\n",
    "\n",
    "True\n",
    "\n",
    "with torch.no_grad():\n",
    "\n",
    "    print((x**2).requires_grad)\n",
    "\n",
    "False\n",
    "\n",
    "neural networks in pytorch\n",
    "\n",
    "# nn depends on autograd to define its models and differentiate\n",
    "\n",
    "# nn.Module contains layers, and a forward method that return output\n",
    "\n",
    "'''\n",
    "\n",
    "steps to define a nn\n",
    "\n",
    "1 define nn and its learnable parameteres \n",
    "\n",
    "2 iterate over dataset\n",
    "\n",
    "3 process input through the networks\n",
    "\n",
    "4 compute loss \n",
    "\n",
    "5 propagate gradients \n",
    "\n",
    "6 ipdate weights, using a rule\n",
    "\n",
    "'''\n",
    "\n",
    "'\\nsteps to define a nn\\n1 define nn and its learnable parameteres \\n2 iterate over dataset\\n3 process input through the networks\\n4 compute loss \\n5 propagate gradients \\n6 ipdate weights, using a rule\\n'\n",
    "\n",
    "import torch\n",
    "\n",
    "import torch.nn as nn\n",
    "\n",
    "import torch.nn.functional as F\n",
    "\n",
    "class Net(nn.Module):\n",
    "\n",
    "    \n",
    "\n",
    "    def __init__(self):\n",
    "\n",
    "        super(Net, self).__init__()\n",
    "\n",
    "        \n",
    "\n",
    "        self.conv1 = nn.Conv2d(1, 6, 5)\n",
    "\n",
    "        self.conv2 = nn.Conv2d(6, 16, 5)\n",
    "\n",
    "        \n",
    "\n",
    "        self.fc1 = nn.Linear(16 * 5 * 5, 120)\n",
    "\n",
    "        self.fc2 = nn.Linear(120, 84)\n",
    "\n",
    "        self.fc3 = nn.Linear(84, 10)\n",
    "\n",
    "        \n",
    "\n",
    "    def forward(self, x):\n",
    "\n",
    "        x = F.max_pool2d(F.relu(self.conv1(x)), (2,2))\n",
    "\n",
    "        x = F.max_pool2d(F.relu(self.conv2(x)), 2)\n",
    "\n",
    "        x = x.view(-1, self.num_flat_features(x))\n",
    "\n",
    "        x = F.relu(self.fc1(x))\n",
    "\n",
    "        x = F.relu(self.fc2(x))\n",
    "\n",
    "        x = self.fc3(x)\n",
    "\n",
    "        return x\n",
    "\n",
    "        \n",
    "\n",
    "    def num_flat_features(self, x):\n",
    "\n",
    "        size = x.size()[1:]\n",
    "\n",
    "        num_features = 1\n",
    "\n",
    "        for s in size:\n",
    "\n",
    "            num_features *= s\n",
    "\n",
    "        return num_features\n",
    "\n",
    "? nn.Conv2d()\n",
    "\n",
    "net = Net()\n",
    "\n",
    "print(net)\n",
    "\n",
    "Net(\n",
    "  (conv1): Conv2d(1, 6, kernel_size=(5, 5), stride=(1, 1))\n",
    "  (conv2): Conv2d(6, 16, kernel_size=(5, 5), stride=(1, 1))\n",
    "  (fc1): Linear(in_features=400, out_features=120, bias=True)\n",
    "  (fc2): Linear(in_features=120, out_features=84, bias=True)\n",
    "  (fc3): Linear(in_features=84, out_features=10, bias=True)\n",
    ")\n",
    "\n",
    "net.parameters()\n",
    "\n",
    "<generator object Module.parameters at 0x7f96f2cbb4c0>\n",
    "\n",
    "list(net.parameters())\n",
    "\n",
    "[Parameter containing:\n",
    " tensor([[[[ 0.0658,  0.1481, -0.0120,  0.1578, -0.1611],\n",
    "           [ 0.0744,  0.0004, -0.1996,  0.0646, -0.1696],\n",
    "           [-0.0958,  0.0300, -0.0667, -0.0793, -0.0720],\n",
    "           [-0.0467, -0.0499, -0.0444, -0.0733, -0.0982],\n",
    "           [-0.1909,  0.1444, -0.0569, -0.1823, -0.0765]]],\n",
    " \n",
    " \n",
    "         [[[-0.1074, -0.1637, -0.1723,  0.0126,  0.0320],\n",
    "           [-0.0591,  0.1090, -0.1673,  0.0740,  0.0635],\n",
    "           [ 0.1539, -0.0005,  0.0367, -0.0800,  0.0631],\n",
    "           [-0.1891,  0.1811,  0.0239,  0.1173, -0.0717],\n",
    "           [-0.0899,  0.0590,  0.1881, -0.0565, -0.0807]]],\n",
    " \n",
    " \n",
    "         [[[ 0.0123,  0.1549, -0.1343,  0.0488, -0.1526],\n",
    "           [-0.1146,  0.1837,  0.1895, -0.1133, -0.0383],\n",
    "           [-0.0287,  0.1875,  0.0424, -0.0010, -0.0559],\n",
    "           [-0.1903,  0.1870,  0.0092, -0.0087,  0.0203],\n",
    "           [ 0.1442,  0.0116,  0.0503,  0.1693, -0.1446]]],\n",
    " \n",
    " \n",
    "         [[[ 0.1628,  0.0344, -0.1855,  0.0107,  0.0373],\n",
    "           [ 0.1605, -0.0060, -0.1972,  0.1655, -0.1428],\n",
    "           [ 0.0371, -0.0590,  0.0952, -0.1293, -0.1396],\n",
    "           [ 0.0334, -0.1077, -0.1520,  0.0217, -0.0594],\n",
    "           [-0.0019, -0.0760, -0.1272, -0.1665, -0.1985]]],\n",
    " \n",
    " \n",
    "         [[[ 0.1256,  0.0496, -0.0378, -0.0825, -0.1037],\n",
    "           [-0.0481, -0.1335, -0.1463, -0.1933, -0.0205],\n",
    "           [ 0.0136, -0.0972, -0.1569,  0.0761,  0.0063],\n",
    "           [-0.0298, -0.0988,  0.0355, -0.0100,  0.1330],\n",
    "           [ 0.0892,  0.1830,  0.0028,  0.1507, -0.0046]]],\n",
    " \n",
    " \n",
    "         [[[-0.1883,  0.0366, -0.1388, -0.1156,  0.1859],\n",
    "           [-0.0232,  0.0628,  0.1913,  0.0865, -0.0448],\n",
    "           [-0.1434,  0.1498,  0.0302, -0.1464,  0.0699],\n",
    "           [ 0.0309,  0.0528, -0.1584,  0.1023,  0.1123],\n",
    "           [-0.0028,  0.0060,  0.0839,  0.0255,  0.1557]]]]),\n",
    " Parameter containing:\n",
    " tensor([ 0.0032,  0.1231,  0.0844,  0.1150,  0.1440,  0.0890]),\n",
    " Parameter containing:\n",
    " tensor(1.00000e-02 *\n",
    "        [[[[ 5.4383, -3.9813, -5.3623,  1.5781,  7.2121],\n",
    "           [-5.5601,  2.7011,  0.5197, -2.6312,  1.9769],\n",
    "           [ 2.0044,  2.3941,  4.5921, -7.7744,  3.9797],\n",
    "           [-2.3769,  4.6674, -5.6967,  3.1449, -6.3614],\n",
    "           [ 0.3412, -6.8293, -8.1339, -3.5695, -7.9718]],\n",
    " \n",
    "          [[-0.0416, -3.0381,  7.1381, -6.9697,  3.8498],\n",
    "           [ 5.0385, -7.7377, -2.0463,  0.2493,  5.0812],\n",
    "           [-4.9971, -3.1749,  0.7664, -4.6787, -4.5684],\n",
    "           [ 7.8633,  3.0813,  3.3532,  2.0836, -0.9643],\n",
    "           [-2.9727,  7.7597, -4.2667, -2.1292,  6.5260]],\n",
    " \n",
    "          [[-0.8034, -2.2738, -7.0565,  5.2340, -4.1983],\n",
    "           [ 0.9073,  2.1358,  1.1425, -2.1462, -7.1935],\n",
    "           [-7.7980,  4.0312,  0.8588,  8.1299,  0.0953],\n",
    "           [-6.5374, -6.1240,  3.5304,  7.3666,  4.8469],\n",
    "           [-6.9180, -5.3574, -3.2778,  0.2465,  4.5617]],\n",
    " \n",
    "          [[ 4.4695, -7.7760, -7.2317,  5.5270,  0.7370],\n",
    "           [ 6.0618,  2.0138, -2.3096,  1.8596, -5.6601],\n",
    "           [ 0.7948, -4.6811, -5.1446, -1.9808,  2.8699],\n",
    "           [ 3.4248, -4.7669,  1.9582,  2.7650,  7.9027],\n",
    "           [-5.1732,  5.9618, -4.9446,  7.4298, -3.8111]],\n",
    " \n",
    "          [[-4.3942,  8.0042,  2.9750,  8.0694,  7.8349],\n",
    "           [-3.3671,  1.0935,  6.0030,  1.1276, -4.3245],\n",
    "           [ 3.7938, -8.0164, -5.6483,  3.8947,  3.8097],\n",
    "           [-3.5798, -7.4293, -3.8893,  1.1559,  1.7495],\n",
    "           [-1.8426, -4.8413, -0.3460,  1.8656, -5.3345]],\n",
    " \n",
    "          [[-6.4767,  5.0553, -0.6918,  7.3346, -5.0340],\n",
    "           [-3.2042, -6.0064, -6.5128, -2.0771, -5.5694],\n",
    "           [ 1.4566,  3.8095, -2.1190, -2.9797,  3.4198],\n",
    "           [-3.0065, -5.2633, -6.5095, -1.4546, -2.7414],\n",
    "           [ 2.1838, -7.5775,  8.0827,  4.4056,  4.3247]]],\n",
    " \n",
    " \n",
    "         [[[ 0.8784,  2.7687,  4.6444,  1.2605, -2.5322],\n",
    "           [ 4.5368,  4.7787,  5.7707, -2.0492,  4.2082],\n",
    "           [ 3.1384,  2.3087,  5.7729,  1.0407, -1.1202],\n",
    "           [-3.5161,  5.8499, -5.9096,  4.1172,  5.6317],\n",
    "           [-0.6424,  2.0636,  4.9694,  4.5550,  0.4437]],\n",
    " \n",
    "          [[-2.8546, -0.3127,  6.0405,  0.0502, -3.3555],\n",
    "           [ 6.4733,  2.3544, -2.6065,  7.0385, -5.1670],\n",
    "           [-2.6797, -0.3159,  1.2456, -0.0564, -7.4134],\n",
    "           [ 6.6152, -4.6160,  1.9775, -2.6432,  5.7481],\n",
    "           [ 0.5141, -4.0174,  6.7514,  0.3890,  6.4027]],\n",
    " \n",
    "          [[-7.1872,  5.1447, -4.5367, -0.2629,  4.1575],\n",
    "           [-5.3760,  6.8174,  1.8577,  5.9916, -2.7298],\n",
    "           [-3.0603, -6.0903,  7.2689,  1.0592, -7.2968],\n",
    "           [ 3.1019, -1.2430,  7.0474, -7.3358,  0.1928],\n",
    "           [ 5.1588, -1.1072,  5.3453, -4.5129, -3.3960]],\n",
    " \n",
    "          [[ 6.9048,  3.9998, -1.0127,  6.2954,  3.8291],\n",
    "           [ 1.9104, -3.4944,  0.8704, -1.8020,  4.1984],\n",
    "           [ 3.5657, -1.3847,  2.4965, -1.6103, -4.2312],\n",
    "           [ 5.0650, -5.6158, -5.1016, -0.7206, -1.4316],\n",
    "           [ 2.5749, -3.6841, -0.2538, -2.6461, -2.1254]],\n",
    " \n",
    "          [[-7.7136, -2.5881, -2.5874,  3.2661, -6.1260],\n",
    "           [-0.8322, -8.0172,  3.1635, -0.2188,  2.0091],\n",
    "           [ 0.8234,  3.8752,  0.8764, -6.2663, -6.4730],\n",
    "           [-6.8717, -5.8405,  0.8991,  4.5445,  1.7495],\n",
    "           [-0.6927,  3.2947,  2.2643,  2.9580, -7.6589]],\n",
    " \n",
    "          [[ 0.4997,  2.2663, -6.1657, -1.1104, -6.9694],\n",
    "           [ 3.3673,  0.2570, -2.4135, -5.9449,  1.9548],\n",
    "           [ 7.1617,  6.9480, -1.8783,  5.9812, -5.2513],\n",
    "           [ 2.4415, -6.1715,  7.2936, -6.0946, -5.2099],\n",
    "           [ 0.2731,  0.9826,  0.2933, -6.7787, -7.0105]]],\n",
    " \n",
    " \n",
    "         [[[ 6.1596,  6.5298, -7.2943,  6.8769, -2.4916],\n",
    "           [-3.4061, -3.9546, -5.4990, -8.1618, -0.1507],\n",
    "           [-1.4192,  7.3747, -7.5429,  2.7342, -2.2474],\n",
    "           [-1.4644,  3.8516, -5.2076,  8.0105,  7.4692],\n",
    "           [ 5.8445,  2.3152, -1.1389, -3.4932, -2.2077]],\n",
    " \n",
    "          [[ 1.3186,  1.6772, -0.7944, -6.5444,  2.5138],\n",
    "           [ 7.6363, -6.5051,  1.8367, -2.7585,  3.8682],\n",
    "           [-8.1641,  3.3184,  0.7154,  3.5708, -5.3565],\n",
    "           [-5.9102,  5.5686,  1.7145, -7.1056,  7.8601],\n",
    "           [-5.6579,  2.4840, -4.6182,  5.7499, -4.7094]],\n",
    " \n",
    "          [[ 1.5200,  0.6721, -4.1535, -6.2654, -1.3424],\n",
    "           [-6.7842,  0.1851, -3.4993,  0.7311,  3.5368],\n",
    "           [ 2.7366,  4.1334, -3.4877, -2.7811, -6.1732],\n",
    "           [ 5.9249,  2.5495, -1.7475, -4.6411,  0.6992],\n",
    "           [ 6.3783, -2.7585,  3.8852, -7.9417, -1.3218]],\n",
    " \n",
    "          [[-4.2903,  0.5757, -7.8702,  2.9265,  6.5172],\n",
    "           [-0.5185, -3.1592,  0.3814, -3.1408,  1.3395],\n",
    "           [-7.8105,  1.1188, -5.6205,  2.8745, -3.2681],\n",
    "           [-2.1652,  6.2163, -2.5977, -8.1602,  3.8813],\n",
    "           [-0.6839,  0.1362,  1.1101,  5.0048,  3.8508]],\n",
    " \n",
    "          [[-0.4352,  7.7337, -5.2372,  4.0645,  7.8174],\n",
    "           [-4.0843, -4.7178, -2.2209, -0.0074, -3.7649],\n",
    "           [-1.2629,  5.5326,  0.3271,  1.4847,  6.5699],\n",
    "           [-2.2060,  6.5510, -4.4286,  5.5173,  7.0546],\n",
    "           [-5.6048,  6.2419,  0.4524, -2.7348,  4.1078]],\n",
    " \n",
    "          [[-5.3761, -2.3744, -0.2429,  2.2930, -0.3527],\n",
    "           [-7.5657, -2.8824, -5.4497, -1.5041, -2.4608],\n",
    "           [ 7.7085,  5.6154,  2.6823, -7.1919,  1.2032],\n",
    "           [ 1.3380,  6.1807, -0.6756,  1.4289,  0.4095],\n",
    "           [-0.5414,  5.0964, -7.2864, -5.5942, -3.7876]]],\n",
    " \n",
    " \n",
    "         ...,\n",
    " \n",
    " \n",
    "         [[[ 2.6158,  3.8548,  4.5628, -6.1435, -2.1427],\n",
    "           [-3.9165,  3.6604, -5.8140, -4.0048, -0.9575],\n",
    "           [ 2.8961,  6.2675,  5.7165, -2.9181,  5.6905],\n",
    "           [ 5.1587, -3.4680,  5.5542,  6.0183, -8.1351],\n",
    "           [ 7.5494, -5.6239, -0.9129, -0.4252,  2.0088]],\n",
    " \n",
    "          [[ 6.6623, -0.9282, -6.5853,  7.7999, -1.1217],\n",
    "           [ 6.3085,  0.9188, -6.7226, -7.3876, -2.9013],\n",
    "           [-1.3809,  4.4080,  1.6129, -0.7142, -0.5763],\n",
    "           [-5.2011,  1.6800, -7.7810, -3.5467, -7.4008],\n",
    "           [ 0.5582, -1.7900, -7.1832,  8.0851, -6.7845]],\n",
    " \n",
    "          [[ 4.3005,  0.1343, -0.0706, -2.0182, -4.5590],\n",
    "           [-4.3967,  7.5363, -5.9106,  1.0635,  4.1791],\n",
    "           [-4.1936, -3.9005,  2.6923, -2.7652, -2.7888],\n",
    "           [-7.3690, -3.0358,  2.7944, -4.9037,  5.3603],\n",
    "           [-5.8824, -8.1618, -7.5600,  7.2208,  1.2680]],\n",
    " \n",
    "          [[-7.1436,  7.0100,  6.5942, -2.9751,  2.4439],\n",
    "           [-2.8473,  7.4492, -4.9537, -2.6985, -4.9977],\n",
    "           [-2.4516, -6.5975, -4.3757, -7.6742, -3.5795],\n",
    "           [ 6.3348,  1.3825, -0.9351,  1.5256, -6.3087],\n",
    "           [ 4.9624,  7.0361, -6.7143, -5.5867, -6.3170]],\n",
    " \n",
    "          [[ 1.1848,  2.6544, -7.8165,  0.7642,  0.8813],\n",
    "           [-1.6643,  3.4634,  0.8258, -1.5475, -6.0370],\n",
    "           [ 5.0996,  5.2467,  3.9565, -3.4448, -1.4031],\n",
    "           [ 7.3511, -4.1999,  7.6613,  0.5318, -6.6188],\n",
    "           [ 7.1488, -5.9768, -2.6836,  1.2481, -6.2773]],\n",
    " \n",
    "          [[ 2.7094, -5.8566, -6.9146,  2.5382,  7.2376],\n",
    "           [ 6.9253, -7.7768,  3.9237,  1.2335, -1.0418],\n",
    "           [-0.7615, -1.9174,  4.7012, -3.8241, -6.4342],\n",
    "           [ 3.6776, -7.9752,  5.8752, -5.7756, -2.6242],\n",
    "           [-3.7254,  2.3866, -2.5057, -6.9367, -4.6172]]],\n",
    " \n",
    " \n",
    "         [[[-3.1018,  5.1929,  2.7648, -0.7476, -1.8404],\n",
    "           [-3.2298,  2.9446, -2.1861, -1.5335, -2.5055],\n",
    "           [-3.3262, -5.4446,  4.0254,  0.8379, -5.5836],\n",
    "           [ 6.5459, -4.4870,  7.5785,  3.1230,  5.1696],\n",
    "           [-1.8582,  1.6764,  4.7267,  4.9696, -4.8461]],\n",
    " \n",
    "          [[-7.9987,  1.2390,  6.2413, -0.5683,  6.9966],\n",
    "           [ 4.3034, -8.1399,  7.1136,  5.2079,  7.3243],\n",
    "           [ 3.4940,  5.7915,  4.7056,  5.1905,  6.5676],\n",
    "           [-0.6001,  2.7191,  1.1037, -1.6773,  5.7662],\n",
    "           [-6.3214,  2.6641,  7.4938, -6.0110,  7.3008]],\n",
    " \n",
    "          [[ 7.9336, -4.3125, -2.5348, -3.6280, -1.3247],\n",
    "           [ 0.2508,  3.6769,  4.9325, -2.1852, -2.3748],\n",
    "           [ 0.9458,  7.7949, -0.1741,  3.1882,  3.5303],\n",
    "           [ 1.8388, -2.0304, -0.6923,  5.8729,  6.5670],\n",
    "           [-0.9894,  5.6946,  1.8595, -2.2129, -5.1135]],\n",
    " \n",
    "          [[ 3.0334, -7.0868, -6.2475,  5.0811, -2.7244],\n",
    "           [-4.1630, -6.9752,  7.2159, -1.7837,  6.3609],\n",
    "           [ 5.5107, -6.1193, -4.5519,  3.8332,  7.5872],\n",
    "           [-3.4962,  3.8321, -3.0518,  6.1816, -4.8339],\n",
    "           [ 8.1540,  4.0427, -1.6479, -0.0673, -7.6931]],\n",
    " \n",
    "          [[-5.0968, -3.9053, -4.8602,  1.8325, -3.9896],\n",
    "           [ 4.2160, -2.5759,  4.1118, -1.8921,  2.6056],\n",
    "           [-4.8723,  2.3420, -7.7076,  5.6548,  0.4948],\n",
    "           [-4.6447,  4.3432,  7.6068, -7.5243, -6.6838],\n",
    "           [-2.3510, -3.6665, -7.0787,  0.0330,  7.2570]],\n",
    " \n",
    "          [[-8.1001,  7.3349, -4.3481,  2.6929, -3.2605],\n",
    "           [ 2.7723,  2.7056, -6.7697,  0.8131,  7.3906],\n",
    "           [-7.4388, -2.8992, -5.7512, -5.4073,  6.3467],\n",
    "           [ 7.8209, -0.9397, -4.9991,  2.6538, -0.7460],\n",
    "           [-1.0914, -5.5690,  0.5907, -6.1851, -2.8814]]],\n",
    " \n",
    " \n",
    "         [[[-7.9101,  3.2056,  0.5180, -7.6640, -0.4740],\n",
    "           [-7.5943, -2.4612,  0.1482, -1.6004,  5.0204],\n",
    "           [-3.3733, -5.1482, -2.1678,  6.8095,  0.1829],\n",
    "           [-5.4515,  5.5072,  6.2060, -3.5324, -0.6424],\n",
    "           [-1.8153, -6.5288,  0.5047,  3.2586, -4.9583]],\n",
    " \n",
    "          [[-6.4549, -3.1440,  4.6286, -1.0128, -4.7952],\n",
    "           [ 5.4638, -3.6457,  6.0805,  2.9058,  2.2811],\n",
    "           [-6.3806,  2.0124, -5.3936, -4.5369,  7.2952],\n",
    "           [ 5.7398,  2.9605, -5.0215,  1.7528,  7.9020],\n",
    "           [ 3.8116, -8.1104, -0.4738,  4.0518,  1.1904]],\n",
    " \n",
    "          [[ 7.3012,  5.4990, -2.3277, -1.2516,  3.4486],\n",
    "           [-4.7553,  7.8880,  1.8265,  6.5507, -2.8061],\n",
    "           [-4.8390, -7.2539,  7.1770, -4.5013,  0.8844],\n",
    "           [-5.8159, -1.5366,  4.8255, -5.9864, -3.6305],\n",
    "           [ 7.6364, -0.6870,  1.1958,  6.2725, -4.1714]],\n",
    " \n",
    "          [[ 7.0853, -5.2746, -2.5274,  2.5283, -6.9871],\n",
    "           [ 2.5686, -3.5646,  3.6085,  6.7751, -5.2367],\n",
    "           [ 3.1628,  3.4790, -5.5176,  7.1922,  5.9820],\n",
    "           [ 3.9653, -1.5844,  0.7874,  5.9700, -5.8120],\n",
    "           [-7.8726,  4.2337,  4.8646, -3.0149,  0.8399]],\n",
    " \n",
    "          [[-1.3781, -3.0511,  1.2040,  5.7776, -3.9349],\n",
    "           [ 4.7709, -5.6803,  1.0823,  5.0570,  8.0891],\n",
    "           [-7.3205,  2.1334,  2.2065, -5.7902,  0.0321],\n",
    "           [-5.9065, -5.0934, -2.0405, -4.3598, -3.3906],\n",
    "           [-7.1657, -1.1438, -0.8623, -2.7070,  5.5421]],\n",
    " \n",
    "          [[-1.7465, -7.3095,  7.2091, -6.0711, -2.1015],\n",
    "           [ 2.4971,  7.9151, -0.9160, -2.3065,  0.0207],\n",
    "           [-1.3557, -6.2244,  1.6488,  6.6480,  7.9394],\n",
    "           [-8.0197, -0.9972, -4.1804,  5.7353, -6.8857],\n",
    "           [ 4.4752,  6.6962, -5.4278, -5.7292,  0.9863]]]]),\n",
    " Parameter containing:\n",
    " tensor(1.00000e-02 *\n",
    "        [ 3.2949, -3.3950,  2.4204, -1.1061,  6.6061,  5.0987,  6.2338,\n",
    "         -6.8998, -7.6680,  7.9680,  0.7446, -4.1084,  1.8137, -0.1770,\n",
    "          6.4743, -6.3668]),\n",
    " Parameter containing:\n",
    " tensor([[-2.4164e-02,  8.2944e-03,  3.9621e-02,  ...,  3.7376e-02,\n",
    "           2.9393e-03, -4.3607e-02],\n",
    "         [-4.4067e-02,  2.1821e-02, -1.0709e-02,  ...,  1.3265e-02,\n",
    "          -1.2399e-02, -2.7052e-03],\n",
    "         [ 1.2126e-03, -2.1138e-02, -9.5651e-03,  ..., -2.3208e-02,\n",
    "          -4.8373e-02, -2.4197e-02],\n",
    "         ...,\n",
    "         [-1.7016e-02, -1.8659e-02, -1.1787e-02,  ...,  3.6348e-03,\n",
    "           3.7944e-02, -4.4074e-02],\n",
    "         [-3.7279e-02, -7.1361e-03, -4.6465e-02,  ...,  2.2334e-02,\n",
    "          -4.8230e-02, -2.2837e-02],\n",
    "         [ 2.5793e-02,  3.2887e-02, -4.8189e-02,  ...,  4.8159e-02,\n",
    "           2.4957e-02,  1.8682e-02]]),\n",
    " Parameter containing:\n",
    " tensor(1.00000e-02 *\n",
    "        [ 1.2635, -1.6882, -0.3341, -4.9842,  3.8204,  3.7565, -3.9950,\n",
    "         -1.0325,  3.3486, -4.6290, -2.7183, -3.4848,  3.3506,  1.5048,\n",
    "          4.0206, -0.8898,  1.7134,  1.7094,  1.4442, -4.2335,  4.2330,\n",
    "         -1.8940,  2.4612,  4.2630,  4.7439,  0.0243, -2.0656, -2.7776,\n",
    "         -4.0013,  0.2225,  4.9263,  2.3432,  2.4737, -0.0832, -0.2112,\n",
    "         -0.0242, -2.8252,  4.7895, -1.3217, -4.3101,  2.6123, -4.7722,\n",
    "          4.0186, -3.2958,  2.5884, -2.0884,  1.1191, -4.5945, -2.0717,\n",
    "          4.1243, -1.9756,  3.1738, -4.8170,  2.3590,  0.9907,  4.1367,\n",
    "          4.4702,  3.5906,  3.9611, -2.0279,  4.5013, -2.2675, -4.9085,\n",
    "          2.2244,  4.2539, -1.8087,  2.0706, -3.2286,  0.6115,  3.5823,\n",
    "         -2.3472,  1.3667, -0.9032,  0.9243, -2.4444, -4.5679, -1.2047,\n",
    "          3.4631,  3.2752, -2.5573, -2.9787, -4.4572, -3.6628, -3.5769,\n",
    "          0.6056,  2.7382, -2.4486, -0.8514, -1.6409,  1.0175,  1.7520,\n",
    "         -2.1046,  3.3298,  4.9469,  2.5926,  1.2237,  1.9927, -0.5323,\n",
    "          4.8014,  0.5061,  4.9665, -4.9616,  3.0905,  2.1736,  1.8203,\n",
    "         -0.9474,  3.1303, -3.3445,  4.9864, -3.6357, -2.8311,  0.7258,\n",
    "         -3.9105,  3.3455, -3.4999,  2.5290, -0.1695, -3.6780, -1.9274,\n",
    "         -2.7840]),\n",
    " Parameter containing:\n",
    " tensor(1.00000e-02 *\n",
    "        [[-3.5007,  8.5737,  2.8831,  ..., -8.6611, -2.9888,  7.6829],\n",
    "         [-2.4077, -2.4378, -2.8529,  ...,  8.2878,  4.0883,  6.7811],\n",
    "         [ 1.2640, -8.2520, -5.5894,  ...,  2.1028,  1.4024, -2.7145],\n",
    "         ...,\n",
    "         [ 1.0577, -5.4108,  7.4523,  ..., -2.4398, -4.7392, -4.3798],\n",
    "         [ 4.0206, -7.0936, -5.8470,  ...,  3.4795, -5.7680, -0.3815],\n",
    "         [ 2.6307,  1.0166, -0.2533,  ...,  2.3551,  7.9023, -5.1686]]),\n",
    " Parameter containing:\n",
    " tensor(1.00000e-02 *\n",
    "        [ 8.7380,  0.1416, -2.7215, -5.6043,  2.2142, -4.8781,  8.2405,\n",
    "          8.1729, -1.9541, -5.0554, -7.7592, -1.7941,  4.5933, -1.4586,\n",
    "          0.1189,  3.8279,  8.7048,  5.5758, -5.7113, -6.7653, -1.0045,\n",
    "          4.3506,  7.1885, -4.8576,  2.8592, -7.2254, -8.5752,  1.7142,\n",
    "         -0.0830, -4.4800, -5.4241, -6.6187,  7.3332, -9.0528,  6.6974,\n",
    "         -6.4539, -1.7131, -8.3058,  0.7318,  7.2031, -7.9907, -4.7070,\n",
    "          4.3477,  0.0020,  5.4104,  3.1732, -4.2741,  6.6719,  5.4204,\n",
    "         -5.2867,  4.8179,  8.3821, -3.4756, -6.6681,  1.8906,  0.0537,\n",
    "         -7.4249,  8.0555, -6.8067, -5.1698, -8.5547,  6.4063, -3.3129,\n",
    "         -7.4790,  8.6982, -8.5703,  7.8926,  9.1099, -7.8728, -6.0969,\n",
    "         -9.0671,  0.3478, -7.0732,  5.2152,  5.1843,  1.3595,  1.6634,\n",
    "          2.2045,  0.0215,  2.5068,  1.9625,  6.1378,  7.8124,  7.8749]),\n",
    " Parameter containing:\n",
    " tensor([[ 0.0485,  0.0877, -0.0284,  0.0907, -0.0830,  0.0252,  0.0106,\n",
    "          -0.1043, -0.0768,  0.0321,  0.0062, -0.0552,  0.0986,  0.0399,\n",
    "          -0.0709,  0.1054, -0.0257,  0.0275, -0.1052,  0.0586, -0.0245,\n",
    "           0.1048, -0.0206,  0.0871,  0.0509, -0.0749,  0.0777, -0.0025,\n",
    "          -0.0191,  0.0711,  0.0430, -0.0069,  0.0364,  0.0096,  0.0225,\n",
    "          -0.0590, -0.0645, -0.0737, -0.0042, -0.0909, -0.0091,  0.0474,\n",
    "           0.0662, -0.1011,  0.0945, -0.1020, -0.0064, -0.0206, -0.0379,\n",
    "           0.0921, -0.1010, -0.0154, -0.0093, -0.0447,  0.0625, -0.0707,\n",
    "           0.0633,  0.0132,  0.0748, -0.0772, -0.0808, -0.0886,  0.0487,\n",
    "           0.0835,  0.0961, -0.0410,  0.0115,  0.0027,  0.0932,  0.0789,\n",
    "          -0.0633,  0.0308, -0.0485, -0.0228, -0.0148,  0.1054,  0.0136,\n",
    "           0.0800, -0.0718,  0.0537, -0.0887, -0.0418, -0.0746,  0.0701],\n",
    "         [ 0.0419, -0.0109, -0.0822, -0.0547,  0.0330, -0.0940, -0.0779,\n",
    "          -0.0186,  0.0137, -0.0249, -0.0991, -0.1004,  0.0766, -0.0599,\n",
    "           0.0450,  0.0146, -0.0757,  0.1075,  0.0951,  0.0318, -0.0185,\n",
    "           0.0576,  0.0264, -0.0519, -0.1016, -0.0856,  0.0165,  0.0069,\n",
    "           0.0361,  0.0524,  0.0692,  0.0822, -0.0431,  0.0152,  0.0735,\n",
    "           0.0144, -0.1039, -0.0318, -0.0604,  0.0794,  0.0201,  0.0355,\n",
    "           0.0275,  0.0727,  0.0646,  0.0123, -0.0293, -0.0721, -0.0496,\n",
    "          -0.0043, -0.0710,  0.0096,  0.1040,  0.0328,  0.0759,  0.0962,\n",
    "          -0.0382, -0.0579,  0.0208,  0.0445,  0.0073, -0.0046, -0.0136,\n",
    "          -0.0374,  0.0555, -0.0614, -0.1078, -0.1065,  0.0290,  0.0571,\n",
    "           0.0608, -0.0666, -0.0571,  0.0974,  0.0870,  0.0759, -0.0991,\n",
    "           0.0001, -0.0955,  0.0505, -0.0297,  0.0202, -0.0328,  0.0757],\n",
    "         [ 0.0929, -0.0208,  0.0698, -0.1064, -0.0300, -0.0624, -0.0916,\n",
    "           0.0542,  0.1030, -0.0873,  0.0639, -0.0936, -0.1055, -0.0554,\n",
    "          -0.0789, -0.0762, -0.0417,  0.0822,  0.0903,  0.0400,  0.0940,\n",
    "           0.0456,  0.0303,  0.0981,  0.0554, -0.0317, -0.0078,  0.1053,\n",
    "           0.1027,  0.0797,  0.0113, -0.0961,  0.0630,  0.0860,  0.0658,\n",
    "          -0.0945,  0.0579, -0.0676,  0.0120,  0.0695,  0.0103,  0.0611,\n",
    "          -0.0390,  0.0989,  0.0284, -0.0385,  0.0371,  0.0375, -0.0695,\n",
    "          -0.0827, -0.0312,  0.0149,  0.0400,  0.0254, -0.0071, -0.0155,\n",
    "          -0.0113, -0.0620,  0.0505,  0.0579,  0.0300, -0.0105, -0.0728,\n",
    "          -0.1023, -0.0285,  0.1082,  0.0183,  0.0073, -0.0361, -0.0067,\n",
    "          -0.1079, -0.0188, -0.0540,  0.0210,  0.1071,  0.0420, -0.0562,\n",
    "          -0.0870, -0.1033,  0.0454, -0.0281,  0.0403,  0.0376,  0.0883],\n",
    "         [ 0.0154,  0.0806, -0.0799,  0.0265,  0.0266, -0.0416,  0.1000,\n",
    "           0.1042, -0.0406,  0.0682,  0.0857,  0.0717, -0.0707, -0.0202,\n",
    "           0.0407,  0.0764, -0.0486, -0.0089,  0.0012,  0.0278, -0.1056,\n",
    "          -0.0481, -0.0900, -0.0843,  0.0819, -0.0571,  0.0415,  0.0833,\n",
    "           0.0538, -0.0103,  0.0182,  0.0909, -0.0411, -0.0778, -0.0881,\n",
    "           0.0004,  0.0458,  0.0624,  0.0037,  0.0778,  0.0209, -0.0353,\n",
    "          -0.0036,  0.0341,  0.1071,  0.0315,  0.0052, -0.0055,  0.0630,\n",
    "           0.1074,  0.0031, -0.0586, -0.0034,  0.1029, -0.0632,  0.0943,\n",
    "           0.0128,  0.0740, -0.1004, -0.0442,  0.1045,  0.0981,  0.1089,\n",
    "           0.0668, -0.0254, -0.0289, -0.0869, -0.0706,  0.0576, -0.0592,\n",
    "          -0.1054,  0.0237,  0.0818,  0.0326, -0.0905,  0.0374,  0.0116,\n",
    "           0.0427,  0.0928,  0.0311,  0.0759,  0.0097,  0.0515, -0.0260],\n",
    "         [ 0.0602,  0.0392,  0.0373,  0.0296,  0.0480,  0.0714,  0.0111,\n",
    "           0.0901, -0.0827, -0.0909,  0.0805, -0.0381,  0.0637, -0.0025,\n",
    "          -0.0288, -0.0015, -0.1051,  0.0697, -0.0071, -0.1074,  0.0174,\n",
    "           0.0951, -0.0747,  0.0211, -0.1029,  0.0479, -0.0769,  0.0969,\n",
    "           0.0523,  0.0225,  0.0515, -0.1022, -0.1050, -0.0376, -0.0486,\n",
    "          -0.0660,  0.0167,  0.0725, -0.0425,  0.0644, -0.1044, -0.0995,\n",
    "          -0.0699,  0.0567,  0.0396,  0.0930, -0.0578, -0.0843,  0.0262,\n",
    "           0.0289, -0.0714, -0.0986,  0.0179,  0.0135,  0.0958, -0.0249,\n",
    "           0.0010,  0.0182,  0.0902,  0.1064,  0.0927, -0.0177, -0.0228,\n",
    "           0.0238,  0.0028,  0.0665,  0.0794, -0.0206,  0.0243, -0.0818,\n",
    "          -0.0703,  0.0625, -0.0738, -0.0319,  0.0256, -0.1011,  0.0702,\n",
    "           0.0566, -0.0198, -0.0984,  0.0409,  0.1033, -0.0926,  0.1081],\n",
    "         [ 0.0115, -0.1006,  0.0321, -0.0923, -0.1055, -0.0003,  0.0786,\n",
    "          -0.0787, -0.1057,  0.0950, -0.0528,  0.0067, -0.0845, -0.0073,\n",
    "          -0.0839,  0.0203, -0.0197, -0.0060,  0.0580,  0.0094,  0.0367,\n",
    "           0.0239, -0.0869,  0.0150, -0.0909, -0.0425,  0.0717,  0.0036,\n",
    "           0.0175,  0.0422,  0.0163,  0.0469, -0.0526, -0.0359,  0.0926,\n",
    "          -0.0522, -0.0065,  0.0927,  0.0290,  0.0737,  0.0955, -0.0571,\n",
    "          -0.0707, -0.0680,  0.0088, -0.0959,  0.0418, -0.0575,  0.0804,\n",
    "          -0.0219,  0.0579,  0.0765, -0.0224,  0.1071,  0.0685, -0.0307,\n",
    "           0.0846,  0.0858, -0.0258,  0.1061,  0.1053, -0.0101,  0.0149,\n",
    "           0.0644, -0.0817,  0.0354, -0.0353, -0.0877,  0.0621, -0.0730,\n",
    "           0.1054, -0.0428, -0.0465,  0.0534,  0.0421, -0.0905,  0.0337,\n",
    "           0.0743,  0.1029, -0.0991,  0.0066,  0.0016, -0.0606,  0.0409],\n",
    "         [-0.0097,  0.0804, -0.1010,  0.0747, -0.0813, -0.0730, -0.0381,\n",
    "          -0.0842,  0.0957, -0.0109,  0.0225,  0.0849,  0.0364,  0.0182,\n",
    "          -0.0512,  0.0615,  0.1081,  0.0966, -0.0126,  0.0050,  0.0960,\n",
    "          -0.0294, -0.0880, -0.0746, -0.0204,  0.0575, -0.0797,  0.0522,\n",
    "          -0.0230, -0.0504,  0.0346, -0.0507, -0.0697, -0.0745,  0.0817,\n",
    "           0.0129, -0.1053, -0.0558, -0.0987, -0.0984, -0.0873, -0.0045,\n",
    "          -0.0204,  0.0566,  0.0029, -0.0922, -0.1062,  0.0801,  0.0681,\n",
    "           0.0117,  0.0475,  0.0325,  0.0031,  0.0748,  0.0804, -0.0618,\n",
    "          -0.0488,  0.0243,  0.0979,  0.1061,  0.0360, -0.0981, -0.0361,\n",
    "           0.1066, -0.1016,  0.0775, -0.0672, -0.0497,  0.0650,  0.0648,\n",
    "           0.0454,  0.0021,  0.0805,  0.1067, -0.0941, -0.0402,  0.0415,\n",
    "           0.0162,  0.0797, -0.0870, -0.0569, -0.0346,  0.0542, -0.0954],\n",
    "         [-0.1083, -0.1074,  0.0057,  0.0110,  0.0299, -0.1041,  0.0146,\n",
    "           0.0033, -0.0389,  0.0860, -0.0598, -0.1042, -0.0987, -0.0268,\n",
    "          -0.0941,  0.0750,  0.0056,  0.0308, -0.0577,  0.0142,  0.0130,\n",
    "          -0.0229, -0.0224,  0.0560, -0.0188, -0.0571,  0.0979,  0.0338,\n",
    "           0.0164, -0.0905, -0.0324, -0.1008, -0.0735, -0.1086,  0.0023,\n",
    "          -0.0639,  0.0524,  0.0746,  0.0922,  0.0681, -0.1015,  0.0906,\n",
    "          -0.0122, -0.0918, -0.0813,  0.0842, -0.0637,  0.0358, -0.0206,\n",
    "           0.0773, -0.0528, -0.0049, -0.0697,  0.1052,  0.0860, -0.0021,\n",
    "           0.0152, -0.0804,  0.0804, -0.0951,  0.0267, -0.0570, -0.0862,\n",
    "           0.0867, -0.0334, -0.0571,  0.1087, -0.0245, -0.0645, -0.0958,\n",
    "           0.0660, -0.0943, -0.0794,  0.0286,  0.0863,  0.0498,  0.0223,\n",
    "           0.0573,  0.0075,  0.0761,  0.0338,  0.0864, -0.0305,  0.0147],\n",
    "         [ 0.1036,  0.0487,  0.0393, -0.0117,  0.0484, -0.0722, -0.0735,\n",
    "          -0.0896, -0.0931, -0.0740, -0.0349,  0.0785, -0.0532,  0.0683,\n",
    "          -0.0477,  0.0749, -0.0774,  0.0746,  0.0812,  0.0798, -0.0200,\n",
    "          -0.0942, -0.0551, -0.1050,  0.0082, -0.0297,  0.0444, -0.0094,\n",
    "           0.0802,  0.0247, -0.1055,  0.0365, -0.0290,  0.0901, -0.0200,\n",
    "           0.0807,  0.0679, -0.0563, -0.0607,  0.0448,  0.0861, -0.0698,\n",
    "          -0.0332,  0.0062, -0.0358,  0.0902,  0.0170,  0.0067,  0.0545,\n",
    "           0.0463,  0.0380, -0.0818, -0.0255,  0.0636,  0.1071, -0.0212,\n",
    "           0.1014, -0.0754, -0.0229,  0.0038,  0.0241, -0.0538,  0.0432,\n",
    "           0.0228, -0.0337,  0.0968, -0.0955,  0.0312,  0.0136,  0.0537,\n",
    "           0.0751, -0.0339,  0.0103,  0.0274, -0.0135,  0.0607,  0.0609,\n",
    "           0.1035, -0.0435, -0.0329,  0.0523,  0.0062,  0.0401, -0.0447],\n",
    "         [ 0.0919,  0.0255,  0.0188,  0.0835, -0.0671, -0.0463,  0.0623,\n",
    "           0.0676,  0.0511, -0.0302,  0.0665,  0.0591, -0.0824, -0.0097,\n",
    "          -0.0735, -0.0410, -0.0247,  0.0277, -0.0752,  0.0673, -0.0408,\n",
    "           0.0047, -0.0798, -0.0165,  0.0227,  0.0011, -0.0135,  0.0522,\n",
    "           0.0160, -0.0341, -0.0831, -0.0058,  0.0269, -0.0838, -0.0072,\n",
    "           0.0250, -0.0223,  0.0653, -0.0075,  0.0976,  0.0539,  0.0689,\n",
    "           0.0857, -0.1017, -0.0187,  0.0880, -0.0556,  0.0912, -0.0421,\n",
    "          -0.0922, -0.0238, -0.0246,  0.0393, -0.0189, -0.0430,  0.0379,\n",
    "          -0.0234, -0.0341, -0.0913,  0.0271,  0.0949, -0.0511,  0.1058,\n",
    "           0.0519,  0.0721, -0.0946, -0.0945,  0.0487,  0.0867, -0.0943,\n",
    "          -0.0524,  0.0013,  0.0732,  0.0595, -0.0470,  0.0115, -0.0699,\n",
    "          -0.0618, -0.1091, -0.0131,  0.0944,  0.0207,  0.0860, -0.0205]]),\n",
    " Parameter containing:\n",
    " tensor([-0.0098,  0.0457,  0.0588,  0.0716, -0.0603, -0.0479,  0.0244,\n",
    "          0.0154, -0.1050,  0.0671])]\n",
    "\n",
    "print(net)\n",
    "\n",
    "Net(\n",
    "  (conv1): Conv2d(1, 6, kernel_size=(5, 5), stride=(1, 1))\n",
    "  (conv2): Conv2d(6, 16, kernel_size=(5, 5), stride=(1, 1))\n",
    "  (fc1): Linear(in_features=400, out_features=120, bias=True)\n",
    "  (fc2): Linear(in_features=120, out_features=84, bias=True)\n",
    "  (fc3): Linear(in_features=84, out_features=10, bias=True)\n",
    ")\n",
    "\n",
    "input = torch.randn(1, 1, 32, 32)\n",
    "\n",
    "input\n",
    "\n",
    "tensor([[[[ 0.3406, -0.0197, -0.2815,  ..., -1.2823, -0.4931, -1.6059],\n",
    "          [-0.3389, -0.1813,  0.1557,  ..., -0.7175, -0.1840, -0.0489],\n",
    "          [ 0.7238,  2.0168,  0.6974,  ...,  0.4254,  0.3735,  1.4088],\n",
    "          ...,\n",
    "          [ 0.0523, -0.0912, -0.3720,  ...,  0.5842,  0.7842, -0.0110],\n",
    "          [-1.3825,  0.3509, -1.1338,  ..., -0.1775,  1.5444,  0.7458],\n",
    "          [ 0.1121, -0.3691,  1.3238,  ...,  0.0627,  0.6420,  0.3186]]]])\n",
    "\n",
    "print(net(input))\n",
    "\n",
    "tensor([[-0.0004,  0.0625,  0.0938,  0.0906, -0.0855, -0.0417,  0.0112,\n",
    "          0.0192, -0.1284,  0.0166]])\n",
    "\n",
    "net.zero_grad()\n",
    "\n",
    "net(input)\n",
    "\n",
    "input\n",
    "\n",
    "tensor([[[[ 0.3406, -0.0197, -0.2815,  ..., -1.2823, -0.4931, -1.6059],\n",
    "          [-0.3389, -0.1813,  0.1557,  ..., -0.7175, -0.1840, -0.0489],\n",
    "          [ 0.7238,  2.0168,  0.6974,  ...,  0.4254,  0.3735,  1.4088],\n",
    "          ...,\n",
    "          [ 0.0523, -0.0912, -0.3720,  ...,  0.5842,  0.7842, -0.0110],\n",
    "          [-1.3825,  0.3509, -1.1338,  ..., -0.1775,  1.5444,  0.7458],\n",
    "          [ 0.1121, -0.3691,  1.3238,  ...,  0.0627,  0.6420,  0.3186]]]])\n",
    "\n",
    "out = net(input)\n",
    "\n",
    "out\n",
    "\n",
    "tensor([[-0.0004,  0.0625,  0.0938,  0.0906, -0.0855, -0.0417,  0.0112,\n",
    "          0.0192, -0.1284,  0.0166]])\n",
    "\n",
    "print(out)\n",
    "\n",
    "tensor([[-0.0004,  0.0625,  0.0938,  0.0906, -0.0855, -0.0417,  0.0112,\n",
    "          0.0192, -0.1284,  0.0166]])\n",
    "\n",
    "net.zero_grad()\n",
    "\n",
    "out.backward(torch.randn(1,10))\n",
    "\n",
    "output = net(input)\n",
    "\n",
    "target = torch.arange(1, 11)\n",
    "\n",
    "target = target.view(1, -1)\n",
    "\n",
    "criterion = nn.MSELoss()\n",
    "\n",
    "loss = criterion(output, target)\n",
    "\n",
    "loss\n",
    "\n",
    "tensor(38.6380)\n",
    "\n",
    "loss.grad_fn\n",
    "\n",
    "<MseLossBackward at 0x7f96f2cce0f0>\n",
    "\n",
    "loss.grad_fn.next_functions[0][0]\n",
    "\n",
    "<AddmmBackward at 0x7f96f2cce860>\n",
    "\n",
    "loss.grad_fn.next_functions[0][0].next_functions[0][0]\n",
    "\n",
    "<ExpandBackward at 0x7f96f209b2e8>\n",
    "\n",
    "net.zero_grad()\n",
    "\n",
    "net.conv1.bias.grad\n",
    "\n",
    "tensor([ 0.,  0.,  0.,  0.,  0.,  0.])\n",
    "\n",
    "loss.backward()\n",
    "\n",
    "net.conv1.bias.grad\n",
    "\n",
    "tensor([ 0.0331,  0.0269,  0.1131, -0.0739,  0.0943,  0.0901])\n",
    "\n",
    "learning_rate = 0.01\n",
    "\n",
    "for f in net.parameters():\n",
    "\n",
    "    f.data.sub_(f.grad.data * learning_rate)\n",
    "\n",
    "import torch.optim as optim\n",
    "\n",
    "optimizer = optim.SGD(net.parameters(), lr=0.01)\n",
    "\n",
    "optimizer.zero_grad()\n",
    "\n",
    "output = net(input)\n",
    "\n",
    "loss = criterion(output, target)\n",
    "\n",
    "loss.backward()\n",
    "\n",
    "optimizer.step()\n",
    "\n",
    "training a classifier\n",
    "\n",
    "'''\n",
    "\n",
    "for images you use Pillow, OpenCV\n",
    "\n",
    "for audio you use scipy, librosa\n",
    "\n",
    "for text you use Cython, NLTK and Spacy\n",
    "\n",
    "'''\n",
    "\n",
    "'\\nfor images you use Pillow, OpenCV\\nfor audio you use scipy, librosa\\nfor text you use Cython, NLTK and Spacy\\n'\n",
    "\n",
    "'''\n",
    "\n",
    "steps for an image classifier\n",
    "\n",
    "1 loading and normalizing cifar10\n",
    "\n",
    "2 define a convolutional neural network\n",
    "\n",
    "3 define a loss function\n",
    "\n",
    "4 train network\n",
    "\n",
    "5 test network on test data set\n",
    "\n",
    "'''\n",
    "\n",
    "'\\nsteps for an image classifier\\n1 loading and normalizing cifar10\\n2 define a convolutional neural network\\n3 define a loss function\\n4 train network\\n5 test network on test data set\\n'\n",
    "\n",
    "import torch\n",
    "\n",
    "import torchvision\n",
    "\n",
    "import torchvision.transforms as transforms \n",
    "\n",
    "type(transforms)\n",
    "\n",
    "module\n",
    "\n",
    "transform = transforms.Compose(\n",
    "\n",
    "    [transforms.ToTensor(),\n",
    "\n",
    "    transforms.Normalize((0.5, 0.5, 0.5),(0.5,0.5,0.5))]\n",
    "\n",
    "    )"
   ]
  },
  {
   "cell_type": "code",
   "execution_count": 78,
   "metadata": {},
   "outputs": [
    {
     "name": "stdout",
     "output_type": "stream",
     "text": [
      "Downloading https://www.cs.toronto.edu/~kriz/cifar-10-python.tar.gz to ./data/cifar-10-python.tar.gz\n"
     ]
    }
   ],
   "source": [
    "=True, transform=transform\n",
    "                                       )"
   ]
  },
  {
   "cell_type": "code",
   "execution_count": 79,
   "metadata": {},
   "outputs": [],
   "source": [
    "trainloader = torch.utils.data.DataLoader(trainset, batch_size=4,\n",
    "                                         shuffle=True, num_workers=2)"
   ]
  },
  {
   "cell_type": "code",
   "execution_count": 81,
   "metadata": {},
   "outputs": [
    {
     "name": "stdout",
     "output_type": "stream",
     "text": [
      "Files already downloaded and verified\n"
     ]
    }
   ],
   "source": [
    "testset = torchvision.datasets.CIFAR10(root='./data', train=False,\n",
    "                                      download=True, transform=transform)"
   ]
  },
  {
   "cell_type": "code",
   "execution_count": 82,
   "metadata": {},
   "outputs": [],
   "source": [
    "testloader = torch.utils.data.DataLoader(testset, batch_size=4,\n",
    "                                        shuffle=False, num_workers=2)"
   ]
  },
  {
   "cell_type": "code",
   "execution_count": 83,
   "metadata": {},
   "outputs": [],
   "source": [
    "classes = ('plane', 'car', 'bird', 'cat', 'deer', 'dog',\n",
    "          'frog', 'horse', 'ship', 'truck')"
   ]
  },
  {
   "cell_type": "code",
   "execution_count": 84,
   "metadata": {},
   "outputs": [],
   "source": [
    "import matplotlib.pyplot as plt\n",
    "import numpy as np"
   ]
  },
  {
   "cell_type": "code",
   "execution_count": 88,
   "metadata": {},
   "outputs": [],
   "source": [
    "def imshow(img):\n",
    "    img = img / 2 + 0.5\n",
    "    npimg = img.numpy()\n",
    "    plt.imshow(np.transpose(npimg, (1,2,0)))"
   ]
  },
  {
   "cell_type": "code",
   "execution_count": 89,
   "metadata": {},
   "outputs": [
    {
     "name": "stderr",
     "output_type": "stream",
     "text": [
      "Exception ignored in: <bound method _DataLoaderIter.__del__ of <torch.utils.data.dataloader._DataLoaderIter object at 0x7f96d837a630>>\n",
      "Traceback (most recent call last):\n",
      "  File \"/home/ivan/environments/my_env1/lib/python3.5/site-packages/torch/utils/data/dataloader.py\", line 349, in __del__\n",
      "    self._shutdown_workers()\n",
      "  File \"/home/ivan/environments/my_env1/lib/python3.5/site-packages/torch/utils/data/dataloader.py\", line 328, in _shutdown_workers\n",
      "    self.worker_result_queue.get()\n",
      "  File \"/usr/lib/python3.5/multiprocessing/queues.py\", line 345, in get\n",
      "    return ForkingPickler.loads(res)\n",
      "  File \"/home/ivan/environments/my_env1/lib/python3.5/site-packages/torch/multiprocessing/reductions.py\", line 70, in rebuild_storage_fd\n",
      "    fd = df.detach()\n",
      "  File \"/usr/lib/python3.5/multiprocessing/resource_sharer.py\", line 57, in detach\n",
      "    with _resource_sharer.get_connection(self._id) as conn:\n",
      "  File \"/usr/lib/python3.5/multiprocessing/resource_sharer.py\", line 87, in get_connection\n",
      "    c = Client(address, authkey=process.current_process().authkey)\n",
      "  File \"/usr/lib/python3.5/multiprocessing/connection.py\", line 493, in Client\n",
      "    answer_challenge(c, authkey)\n",
      "  File \"/usr/lib/python3.5/multiprocessing/connection.py\", line 732, in answer_challenge\n",
      "    message = connection.recv_bytes(256)         # reject large message\n",
      "  File \"/usr/lib/python3.5/multiprocessing/connection.py\", line 216, in recv_bytes\n",
      "    buf = self._recv_bytes(maxlength)\n",
      "  File \"/usr/lib/python3.5/multiprocessing/connection.py\", line 407, in _recv_bytes\n",
      "    buf = self._recv(4)\n",
      "  File \"/usr/lib/python3.5/multiprocessing/connection.py\", line 383, in _recv\n",
      "    raise EOFError\n",
      "EOFError: \n",
      "Process Process-3:\n",
      "Traceback (most recent call last):\n",
      "  File \"/usr/lib/python3.5/multiprocessing/process.py\", line 249, in _bootstrap\n",
      "    self.run()\n",
      "  File \"/usr/lib/python3.5/multiprocessing/process.py\", line 93, in run\n",
      "    self._target(*self._args, **self._kwargs)\n",
      "  File \"/home/ivan/environments/my_env1/lib/python3.5/site-packages/torch/utils/data/dataloader.py\", line 52, in _worker_loop\n",
      "    r = index_queue.get()\n",
      "  File \"/usr/lib/python3.5/multiprocessing/queues.py\", line 343, in get\n",
      "    res = self._reader.recv_bytes()\n",
      "  File \"/usr/lib/python3.5/multiprocessing/connection.py\", line 216, in recv_bytes\n",
      "    buf = self._recv_bytes(maxlength)\n",
      "Process Process-4:\n",
      "  File \"/usr/lib/python3.5/multiprocessing/connection.py\", line 407, in _recv_bytes\n",
      "    buf = self._recv(4)\n",
      "Traceback (most recent call last):\n",
      "  File \"/usr/lib/python3.5/multiprocessing/connection.py\", line 379, in _recv\n",
      "    chunk = read(handle, remaining)\n",
      "  File \"/usr/lib/python3.5/multiprocessing/process.py\", line 249, in _bootstrap\n",
      "    self.run()\n",
      "KeyboardInterrupt\n",
      "  File \"/usr/lib/python3.5/multiprocessing/process.py\", line 93, in run\n",
      "    self._target(*self._args, **self._kwargs)\n",
      "  File \"/home/ivan/environments/my_env1/lib/python3.5/site-packages/torch/utils/data/dataloader.py\", line 52, in _worker_loop\n",
      "    r = index_queue.get()\n",
      "  File \"/usr/lib/python3.5/multiprocessing/queues.py\", line 343, in get\n",
      "    res = self._reader.recv_bytes()\n",
      "  File \"/usr/lib/python3.5/multiprocessing/connection.py\", line 216, in recv_bytes\n",
      "    buf = self._recv_bytes(maxlength)\n"
     ]
    }
   ],
   "source": [
    "dataiter = iter(trainloader)\n",
    "images, labels = dataiter.next()"
   ]
  },
  {
   "cell_type": "code",
   "execution_count": 90,
   "metadata": {},
   "outputs": [
    {
     "data": {
      "image/png": "[encoded data removed]",
      "text/plain": [
       "<Figure size 432x288 with 1 Axes>"
      ]
     },
     "metadata": {},
     "output_type": "display_data"
    }
   ],
   "source": [
    "imshow(torchvision.utils.make_grid(images))"
   ]
  },
  {
   "cell_type": "code",
   "execution_count": 93,
   "metadata": {},
   "outputs": [
    {
     "name": "stdout",
     "output_type": "stream",
     "text": [
      "truck bird frogtruck\n"
     ]
    }
   ],
   "source": [
    "print(''.join('%5s' % classes[labels[j]] for j in range(4)))"
   ]
  },
  {
   "cell_type": "code",
   "execution_count": 94,
   "metadata": {},
   "outputs": [],
   "source": [
    "class Net(nn.Module):\n",
    "    def __init__(self):\n",
    "        super(Net, self).__init__()\n",
    "        self.conv1 = nn.Conv2d(3, 6, 5)\n",
    "        self.pool = nn.MaxPool2d(2, 2)\n",
    "        self.conv2 = nn.Conv2d(6, 16, 5)\n",
    "        self.fc1 = nn.Linear(16 * 5 * 5, 120)\n",
    "        self.fc2 = nn.Linear(120, 84)\n",
    "        self.fc3 = nn.Linear(84, 10)\n",
    "\n",
    "    def forward(self, x):\n",
    "        x = self.pool(F.relu(self.conv1(x)))\n",
    "        x = self.pool(F.relu(self.conv2(x)))\n",
    "        x = x.view(-1, 16 * 5 * 5)\n",
    "        x = F.relu(self.fc1(x))\n",
    "        x = F.relu(self.fc2(x))\n",
    "        x = self.fc3(x)\n",
    "        return x"
   ]
  },
  {
   "cell_type": "code",
   "execution_count": 95,
   "metadata": {},
   "outputs": [],
   "source": [
    "net = Net()"
   ]
  },
  {
   "cell_type": "code",
   "execution_count": 96,
   "metadata": {},
   "outputs": [],
   "source": [
    "import torch.optim as optim"
   ]
  },
  {
   "cell_type": "code",
   "execution_count": 97,
   "metadata": {},
   "outputs": [],
   "source": [
    "criterion = nn.CrossEntropyLoss()"
   ]
  },
  {
   "cell_type": "code",
   "execution_count": 98,
   "metadata": {},
   "outputs": [],
   "source": [
    "optimizer = optim.SGD(net.parameters(), lr=0.001, momentum=0.9)"
   ]
  },
  {
   "cell_type": "code",
   "execution_count": 2,
   "metadata": {},
   "outputs": [
    {
     "ename": "NameError",
     "evalue": "name 'trainloader' is not defined",
     "output_type": "error",
     "traceback": [
      "\u001b[0;31m---------------------------------------------------------------------------\u001b[0m",
      "\u001b[0;31mNameError\u001b[0m                                 Traceback (most recent call last)",
      "\u001b[0;32m<ipython-input-2-7cbd739a50d9>\u001b[0m in \u001b[0;36m<module>\u001b[0;34m()\u001b[0m\n\u001b[1;32m      3\u001b[0m     \u001b[0mrunning_loss\u001b[0m \u001b[0;34m=\u001b[0m \u001b[0;36m0.0\u001b[0m\u001b[0;34m\u001b[0m\u001b[0m\n\u001b[1;32m      4\u001b[0m \u001b[0;34m\u001b[0m\u001b[0m\n\u001b[0;32m----> 5\u001b[0;31m     \u001b[0;32mfor\u001b[0m \u001b[0mi\u001b[0m\u001b[0;34m,\u001b[0m \u001b[0mdata\u001b[0m \u001b[0;32min\u001b[0m \u001b[0menumerate\u001b[0m\u001b[0;34m(\u001b[0m\u001b[0mtrainloader\u001b[0m\u001b[0;34m,\u001b[0m \u001b[0;36m0\u001b[0m\u001b[0;34m)\u001b[0m\u001b[0;34m:\u001b[0m\u001b[0;34m\u001b[0m\u001b[0m\n\u001b[0m\u001b[1;32m      6\u001b[0m \u001b[0;34m\u001b[0m\u001b[0m\n\u001b[1;32m      7\u001b[0m         \u001b[0minputs\u001b[0m\u001b[0;34m,\u001b[0m \u001b[0mlabels\u001b[0m \u001b[0;34m=\u001b[0m \u001b[0mdata\u001b[0m\u001b[0;34m\u001b[0m\u001b[0m\n",
      "\u001b[0;31mNameError\u001b[0m: name 'trainloader' is not defined"
     ]
    }
   ],
   "source": [
    "for epoch in range(2):\n",
    "    \n",
    "    running_loss = 0.0\n",
    "    \n",
    "    for i, data in enumerate(trainloader, 0):\n",
    "        \n",
    "        inputs, labels = data\n",
    "        optimizer.zero_grad()\n",
    "        \n",
    "        outputs = net(inputs)\n",
    "        loss = criterion(outputs, labels)\n",
    "        loss.backward()\n",
    "        optimizer.step()\n",
    "        \n",
    "        running_loss += loss.item()\n",
    "        \n",
    "        if i % 2000 == 1999:\n",
    "            print('[%d, %5d] loss: %.3f' % \n",
    "                 (epoch + 1, i + 1, running_loss / 2000))\n",
    "            running_loss = 0.0"
   ]
  },
  {
   "cell_type": "code",
   "execution_count": null,
   "metadata": {},
   "outputs": [],
   "source": []
  }
 ],
 "metadata": {
  "kernelspec": {
   "display_name": "Python 3",
   "language": "python",
   "name": "python3"
  },
  "language_info": {
   "codemirror_mode": {
    "name": "ipython",
    "version": 3
   },
   "file_extension": ".py",
   "mimetype": "text/x-python",
   "name": "python",
   "nbconvert_exporter": "python",
   "pygments_lexer": "ipython3",
   "version": "3.5.2"
  }
 },
 "nbformat": 4,
 "nbformat_minor": 2
}
