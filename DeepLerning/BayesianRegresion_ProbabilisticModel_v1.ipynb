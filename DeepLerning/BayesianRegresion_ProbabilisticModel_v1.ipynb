{
 "cells": [
  {
   "cell_type": "markdown",
   "metadata": {},
   "source": [
    "## Setup"
   ]
  },
  {
   "cell_type": "code",
   "execution_count": 1,
   "metadata": {},
   "outputs": [],
   "source": [
    "import torch"
   ]
  },
  {
   "cell_type": "code",
   "execution_count": 2,
   "metadata": {},
   "outputs": [
    {
     "data": {
      "text/plain": [
       "'0.4.0'"
      ]
     },
     "execution_count": 2,
     "metadata": {},
     "output_type": "execute_result"
    }
   ],
   "source": [
    "torch.__version__"
   ]
  },
  {
   "cell_type": "code",
   "execution_count": 3,
   "metadata": {},
   "outputs": [],
   "source": [
    "import pyro"
   ]
  },
  {
   "cell_type": "code",
   "execution_count": 4,
   "metadata": {},
   "outputs": [
    {
     "data": {
      "text/plain": [
       "'0.2.0'"
      ]
     },
     "execution_count": 4,
     "metadata": {},
     "output_type": "execute_result"
    }
   ],
   "source": [
    "pyro.__version__"
   ]
  },
  {
   "cell_type": "code",
   "execution_count": 5,
   "metadata": {},
   "outputs": [],
   "source": [
    "import os"
   ]
  },
  {
   "cell_type": "code",
   "execution_count": 6,
   "metadata": {},
   "outputs": [],
   "source": [
    "import numpy as np\n",
    "import torch.nn as nn"
   ]
  },
  {
   "cell_type": "code",
   "execution_count": 7,
   "metadata": {},
   "outputs": [],
   "source": [
    "from pyro.distributions import Normal\n",
    "from pyro.infer import SVI, Trace_ELBO\n",
    "from pyro.optim import Adam"
   ]
  },
  {
   "cell_type": "code",
   "execution_count": 8,
   "metadata": {},
   "outputs": [],
   "source": [
    "smoke_test = ('CI' in os.environ)\n",
    "pyro.enable_validation(True)"
   ]
  },
  {
   "cell_type": "code",
   "execution_count": 9,
   "metadata": {},
   "outputs": [
    {
     "data": {
      "text/plain": [
       "environ({'PWD': '/home/ivan/environments/my_env1/DL_1', 'INSTANCE': '', 'XDG_GREETER_DATA_DIR': '/var/lib/lightdm-data/ivan', 'XDG_SESSION_PATH': '/org/freedesktop/DisplayManager/Session0', 'XDG_SESSION_TYPE': 'x11', 'LESSCLOSE': '/usr/bin/lesspipe %s %s', 'XDG_DATA_DIRS': '/usr/share/ubuntu:/usr/share/gnome:/usr/local/share:/usr/share:/var/lib/snapd/desktop', 'QT4_IM_MODULE': 'xim', 'QT_IM_MODULE': 'ibus', 'SHLVL': '1', 'COMPIZ_CONFIG_PROFILE': 'ubuntu', 'HOME': '/home/ivan', 'QT_QPA_PLATFORMTHEME': 'appmenu-qt5', 'PS1': '(my_env1) \\\\[\\\\e]0;\\\\u@\\\\h: \\\\w\\\\a\\\\]${debian_chroot:+($debian_chroot)}\\\\[\\\\033[01;32m\\\\]\\\\u@\\\\h\\\\[\\\\033[00m\\\\]:\\\\[\\\\033[01;34m\\\\]\\\\w\\\\[\\\\033[00m\\\\]\\\\$ ', 'LC_NUMERIC': 'ayc_PE', 'XDG_RUNTIME_DIR': '/run/user/1000', 'PAGER': 'cat', 'IM_CONFIG_PHASE': '1', 'LESSOPEN': '| /usr/bin/lesspipe %s', 'LC_TIME': 'ayc_PE', 'DESKTOP_SESSION': 'ubuntu', 'LANG': 'en_US.UTF-8', 'WINDOWID': '52428810', 'SESSIONTYPE': 'gnome-session', 'LC_IDENTIFICATION': 'ayc_PE', 'GTK_IM_MODULE': 'ibus', 'LIBGL_ALWAYS_SOFTWARE': '1', 'COMPIZ_BIN_PATH': '/usr/bin/', 'SSH_AUTH_SOCK': '/run/user/1000/keyring/ssh', 'LC_PAPER': 'ayc_PE', 'LC_TELEPHONE': 'ayc_PE', 'GNOME_KEYRING_CONTROL': '', 'XMODIFIERS': '@im=ibus', 'XAUTHORITY': '/home/ivan/.Xauthority', 'MPLBACKEND': 'module://ipykernel.pylab.backend_inline', 'XDG_VTNR': '7', 'XDG_SESSION_DESKTOP': 'ubuntu', 'LC_NAME': 'ayc_PE', 'XDG_CURRENT_DESKTOP': 'Unity', 'SHELL': '/bin/bash', 'MANDATORY_PATH': '/usr/share/gconf/ubuntu.mandatory.path', 'XDG_SESSION_ID': 'c2', 'JPY_PARENT_PID': '6748', 'GPG_AGENT_INFO': '/home/ivan/.gnupg/S.gpg-agent:0:1', 'UNITY_HAS_3D_SUPPORT': 'false', 'USER': 'ivan', 'GDM_LANG': 'en_US', 'LC_MEASUREMENT': 'ayc_PE', 'XDG_SEAT_PATH': '/org/freedesktop/DisplayManager/Seat0', 'JOB': 'unity-settings-daemon', 'GNOME_DESKTOP_SESSION_ID': 'this-is-deprecated', 'LANGUAGE': 'en_US', 'QT_ACCESSIBILITY': '1', 'LC_MONETARY': 'ayc_PE', 'UPSTART_SESSION': 'unix:abstract=/com/ubuntu/upstart-session/1000/1936', 'CLUTTER_IM_MODULE': 'xim', 'QT_LINUX_ACCESSIBILITY_ALWAYS_ON': '1', 'GNOME_KEYRING_PID': '', 'XDG_CONFIG_DIRS': '/etc/xdg/xdg-ubuntu:/usr/share/upstart/xdg:/etc/xdg', 'GTK_MODULES': 'gail:atk-bridge:unity-gtk-module', 'DBUS_SESSION_BUS_ADDRESS': 'unix:abstract=/tmp/dbus-XSvdxJKPDb', 'LS_COLORS': 'rs=0:di=01;34:ln=01;36:mh=00:pi=40;33:so=01;35:do=01;35:bd=40;33;01:cd=40;33;01:or=40;31;01:mi=00:su=37;41:sg=30;43:ca=30;41:tw=30;42:ow=34;42:st=37;44:ex=01;32:*.tar=01;31:*.tgz=01;31:*.arc=01;31:*.arj=01;31:*.taz=01;31:*.lha=01;31:*.lz4=01;31:*.lzh=01;31:*.lzma=01;31:*.tlz=01;31:*.txz=01;31:*.tzo=01;31:*.t7z=01;31:*.zip=01;31:*.z=01;31:*.Z=01;31:*.dz=01;31:*.gz=01;31:*.lrz=01;31:*.lz=01;31:*.lzo=01;31:*.xz=01;31:*.bz2=01;31:*.bz=01;31:*.tbz=01;31:*.tbz2=01;31:*.tz=01;31:*.deb=01;31:*.rpm=01;31:*.jar=01;31:*.war=01;31:*.ear=01;31:*.sar=01;31:*.rar=01;31:*.alz=01;31:*.ace=01;31:*.zoo=01;31:*.cpio=01;31:*.7z=01;31:*.rz=01;31:*.cab=01;31:*.jpg=01;35:*.jpeg=01;35:*.gif=01;35:*.bmp=01;35:*.pbm=01;35:*.pgm=01;35:*.ppm=01;35:*.tga=01;35:*.xbm=01;35:*.xpm=01;35:*.tif=01;35:*.tiff=01;35:*.png=01;35:*.svg=01;35:*.svgz=01;35:*.mng=01;35:*.pcx=01;35:*.mov=01;35:*.mpg=01;35:*.mpeg=01;35:*.m2v=01;35:*.mkv=01;35:*.webm=01;35:*.ogm=01;35:*.mp4=01;35:*.m4v=01;35:*.mp4v=01;35:*.vob=01;35:*.qt=01;35:*.nuv=01;35:*.wmv=01;35:*.asf=01;35:*.rm=01;35:*.rmvb=01;35:*.flc=01;35:*.avi=01;35:*.fli=01;35:*.flv=01;35:*.gl=01;35:*.dl=01;35:*.xcf=01;35:*.xwd=01;35:*.yuv=01;35:*.cgm=01;35:*.emf=01;35:*.ogv=01;35:*.ogx=01;35:*.aac=00;36:*.au=00;36:*.flac=00;36:*.m4a=00;36:*.mid=00;36:*.midi=00;36:*.mka=00;36:*.mp3=00;36:*.mpc=00;36:*.ogg=00;36:*.ra=00;36:*.wav=00;36:*.oga=00;36:*.opus=00;36:*.spx=00;36:*.xspf=00;36:', 'UPSTART_JOB': 'unity7', 'LOGNAME': 'ivan', 'DEFAULTS_PATH': '/usr/share/gconf/ubuntu.default.path', 'UPSTART_INSTANCE': '', 'VIRTUAL_ENV': '/home/ivan/environments/my_env1', 'UPSTART_EVENTS': 'xsession started', 'GIT_PAGER': 'cat', 'SESSION': 'ubuntu', 'GDMSESSION': 'ubuntu', 'DISPLAY': ':0', 'CLICOLOR': '1', 'OLDPWD': '/home/ivan/environments/my_env1', 'GTK2_MODULES': 'overlay-scrollbar', 'PATH': '/home/ivan/environments/my_env1/bin:/home/ivan/environments/my_env1/bin:/home/ivan/bin:/home/ivan/.local/bin:/usr/local/sbin:/usr/local/bin:/usr/sbin:/usr/bin:/sbin:/bin:/usr/games:/usr/local/games:/snap/bin', '_': '/home/ivan/environments/my_env1/bin/jupyter', 'UNITY_DEFAULT_PROFILE': 'unity-lowgfx', 'XDG_SEAT': 'seat0', 'VTE_VERSION': '4205', 'TERM': 'xterm-color', 'LC_ADDRESS': 'ayc_PE'})"
      ]
     },
     "execution_count": 9,
     "metadata": {},
     "output_type": "execute_result"
    }
   ],
   "source": [
    "os.environ"
   ]
  },
  {
   "cell_type": "markdown",
   "metadata": {},
   "source": [
    "##  Data"
   ]
  },
  {
   "cell_type": "code",
   "execution_count": 10,
   "metadata": {},
   "outputs": [],
   "source": [
    "N = 100"
   ]
  },
  {
   "cell_type": "code",
   "execution_count": 11,
   "metadata": {},
   "outputs": [],
   "source": [
    "def build_linear_dataset(N, p=1, noise_std=0.01):\n",
    "    X = np.random.rand(N, p)\n",
    "    w = 3 * np.ones(p)\n",
    "    y = np.matmul(X,w) + np.repeat(1, N) + np.random.normal(0, noise_std, size=N)\n",
    "    y = y.reshape(N, 1)\n",
    "    X, y = torch.tensor(X).type(torch.Tensor), torch.tensor(y).type(torch.Tensor)\n",
    "    data = torch.cat((X,y), 1)\n",
    "    assert data.shape == (N, p + 1)\n",
    "    return data\n",
    "    "
   ]
  },
  {
   "cell_type": "code",
   "execution_count": 12,
   "metadata": {},
   "outputs": [],
   "source": [
    "class RegressionModel(nn.Module):\n",
    "    def __init__(self, p):\n",
    "        super(RegressionModel, self).__init__()\n",
    "        self.linear = nn.Linear(p, 1)\n",
    "    \n",
    "    def forward(self, x):\n",
    "        return self.linear(x)   "
   ]
  },
  {
   "cell_type": "code",
   "execution_count": 13,
   "metadata": {},
   "outputs": [],
   "source": [
    "regression_model = RegressionModel(1)"
   ]
  },
  {
   "cell_type": "code",
   "execution_count": 14,
   "metadata": {},
   "outputs": [],
   "source": [
    "loss_fn = torch.nn.MSELoss(size_average=False)\n",
    "optim = torch.optim.Adam(regression_model.parameters(), lr=0.05)\n",
    "num_iterations = 1000 if not smoke_test else 2"
   ]
  },
  {
   "cell_type": "code",
   "execution_count": 15,
   "metadata": {},
   "outputs": [
    {
     "name": "stdout",
     "output_type": "stream",
     "text": [
      "[iteration 0050] loss: 14.4159\n",
      "[iteration 0100] loss: 7.8124\n",
      "[iteration 0150] loss: 4.0348\n",
      "[iteration 0200] loss: 1.8165\n",
      "[iteration 0250] loss: 0.7208\n",
      "[iteration 0300] loss: 0.2567\n",
      "[iteration 0350] loss: 0.0858\n",
      "[iteration 0400] loss: 0.0307\n",
      "[iteration 0450] loss: 0.0151\n",
      "[iteration 0500] loss: 0.0113\n",
      "[iteration 0550] loss: 0.0104\n",
      "[iteration 0600] loss: 0.0102\n",
      "[iteration 0650] loss: 0.0102\n",
      "[iteration 0700] loss: 0.0102\n",
      "[iteration 0750] loss: 0.0102\n",
      "[iteration 0800] loss: 0.0102\n",
      "[iteration 0850] loss: 0.0102\n",
      "[iteration 0900] loss: 0.0102\n",
      "[iteration 0950] loss: 0.0102\n",
      "[iteration 1000] loss: 0.0102\n",
      "learned parameters\n",
      "linear.weight: 3.003\n",
      "linear.bias: 0.998\n"
     ]
    }
   ],
   "source": [
    "def main():\n",
    "    data = build_linear_dataset(N)\n",
    "    x_data = data[:, :-1]\n",
    "    y_data = data[:, -1]\n",
    "    for j in range(num_iterations):\n",
    "        y_pred = regression_model(x_data).squeeze(-1)\n",
    "        loss = loss_fn(y_pred, y_data)\n",
    "        optim.zero_grad()\n",
    "        loss.backward()\n",
    "        optim.step()\n",
    "        if (j + 1) % 50 == 0:\n",
    "            print(\"[iteration %04d] loss: %.4f\" % (j + 1, loss.item()))\n",
    "    print('learned parameters')\n",
    "    for name, param in regression_model.named_parameters():\n",
    "        print(\"%s: %.3f\" % (name, param.data.numpy()))\n",
    "\n",
    "if __name__ == '__main__':\n",
    "    main()       "
   ]
  },
  {
   "cell_type": "code",
   "execution_count": 16,
   "metadata": {},
   "outputs": [],
   "source": [
    "loc = torch.zeros(1,1)\n",
    "scale = torch.ones(1,1)\n",
    "prior = Normal(loc, scale)"
   ]
  },
  {
   "cell_type": "code",
   "execution_count": 17,
   "metadata": {},
   "outputs": [
    {
     "data": {
      "text/plain": [
       "tensor([[ 0.]])"
      ]
     },
     "execution_count": 17,
     "metadata": {},
     "output_type": "execute_result"
    }
   ],
   "source": [
    "loc"
   ]
  },
  {
   "cell_type": "code",
   "execution_count": 18,
   "metadata": {},
   "outputs": [
    {
     "data": {
      "text/plain": [
       "tensor([[ 1.]])"
      ]
     },
     "execution_count": 18,
     "metadata": {},
     "output_type": "execute_result"
    }
   ],
   "source": [
    "scale"
   ]
  },
  {
   "cell_type": "code",
   "execution_count": 19,
   "metadata": {},
   "outputs": [
    {
     "data": {
      "text/plain": [
       "Normal()"
      ]
     },
     "execution_count": 19,
     "metadata": {},
     "output_type": "execute_result"
    }
   ],
   "source": [
    "prior"
   ]
  },
  {
   "cell_type": "code",
   "execution_count": 20,
   "metadata": {},
   "outputs": [],
   "source": [
    "lifted_module = pyro.random_module('regression_module', regression_model, prior)\n",
    "sampled_reg_model = lifted_module()"
   ]
  },
  {
   "cell_type": "code",
   "execution_count": 21,
   "metadata": {},
   "outputs": [],
   "source": [
    "def model(data):\n",
    "    \n",
    "    loc, scale = torch.zeros(1, 1), 10 * torch.ones(1, 1)\n",
    "    bias_loc, bias_scale = torch.zeros(1), 10 * torch.ones(1)\n",
    "    \n",
    "    w_prior = Normal(loc, scale).independent(1)\n",
    "    b_prior = Normal(bias_loc, bias_scale).independent(1)\n",
    "    \n",
    "    priors = {'linear.weight': w_prior, 'linear.bias': b_prior}\n",
    "    \n",
    "    lifted_module = pyro.random_module(\"module\", regression_model, priors)\n",
    "    \n",
    "    lifted_reg_model = lifted_module()\n",
    "    with pyro.iarange(\"map\", N):\n",
    "        x_data = data[:, :-1]\n",
    "        y_data = data[:, -1]\n",
    "    \n",
    "        \n",
    "        prediction_mean = lifted_reg_model(x_data).squeeze(-1)\n",
    "        \n",
    "        pyro.sample(\"obs\", \n",
    "                    Normal(prediction_mean, 0.1 * torch.ones(data.size(0))),\n",
    "                    obs=y_data)"
   ]
  },
  {
   "cell_type": "code",
   "execution_count": 22,
   "metadata": {},
   "outputs": [],
   "source": [
    "softplus = torch.nn.Softplus()"
   ]
  },
  {
   "cell_type": "code",
   "execution_count": 23,
   "metadata": {},
   "outputs": [],
   "source": [
    "def guide(data):\n",
    "    # define our variational parameters\n",
    "    w_loc = torch.randn(1, 1)\n",
    "    \n",
    "    # note that we initialize our scales to be pretty narrow\n",
    "    w_log_sig = torch.tensor(-3.0 * torch.ones(1, 1) + 0.05 * torch.randn(1, 1))\n",
    "    b_loc = torch.randn(1)\n",
    "    b_log_sig = torch.tensor(-3.0 * torch.ones(1) + 0.05 * torch.randn(1))\n",
    "    \n",
    "    # register learnable params in the param store\n",
    "    mw_param = pyro.param(\"guide_mean_weight\", w_loc)\n",
    "    sw_param = softplus(pyro.param(\"guide_log_scale_weight\", w_log_sig))\n",
    "    mb_param = pyro.param(\"guide_mean_bias\", b_loc)\n",
    "    sb_param = softplus(pyro.param(\"guide_log_scale_bias\", b_log_sig))\n",
    "    \n",
    "    # guide distributions for w and b\n",
    "    w_dist = Normal(mw_param, sw_param).independent(1)\n",
    "    b_dist = Normal(mb_param, sb_param).independent(1)\n",
    "    dists = {'linear.weight': w_dist, 'linear.bias': b_dist}\n",
    "    \n",
    "    # overload the parameters in the module with random samples \n",
    "    # from the guide distributions\n",
    "    lifted_module = pyro.random_module(\"module\", regression_model, dists)\n",
    "    \n",
    "    # sample a regressor (which also samples w and b)\n",
    "    return lifted_module()"
   ]
  },
  {
   "cell_type": "code",
   "execution_count": 24,
   "metadata": {},
   "outputs": [],
   "source": [
    "optim = Adam({\"lr\": 0.05})\n",
    "svi = SVI(model, guide, optim, loss=Trace_ELBO())"
   ]
  },
  {
   "cell_type": "code",
   "execution_count": 25,
   "metadata": {},
   "outputs": [
    {
     "name": "stdout",
     "output_type": "stream",
     "text": [
      "[iteration 0001] loss: 737.4688\n",
      "[iteration 0101] loss: -0.7664\n",
      "[iteration 0201] loss: -0.7842\n",
      "[iteration 0301] loss: -1.0706\n",
      "[iteration 0401] loss: -1.0227\n",
      "[iteration 0501] loss: -1.2106\n",
      "[iteration 0601] loss: -1.1885\n",
      "[iteration 0701] loss: -1.2329\n",
      "[iteration 0801] loss: -1.2337\n",
      "[iteration 0901] loss: -1.2563\n"
     ]
    }
   ],
   "source": [
    "def main():\n",
    "    pyro.clear_param_store()\n",
    "    data = build_linear_dataset(N)\n",
    "    for j in range(num_iterations):\n",
    "        \n",
    "        # calculate the loss and take a gradient step\n",
    "        loss = svi.step(data)\n",
    "        if j % 100 == 0:\n",
    "            print(\"[iteration %04d] loss: %.4f\" % (j + 1, loss / float(N)))\n",
    "            \n",
    "if __name__ == '__main__':\n",
    "    main()"
   ]
  },
  {
   "cell_type": "code",
   "execution_count": 26,
   "metadata": {},
   "outputs": [
    {
     "name": "stdout",
     "output_type": "stream",
     "text": [
      "[guide_log_scale_bias]: -3.917\n",
      "[guide_mean_weight]: 3.009\n",
      "[guide_log_scale_weight]: -3.800\n",
      "[guide_mean_bias]: 1.001\n"
     ]
    }
   ],
   "source": [
    "for name in pyro.get_param_store().get_all_param_names():\n",
    "    print(\"[%s]: %.3f\" % (name, pyro.param(name).data.numpy()))\n"
   ]
  },
  {
   "cell_type": "code",
   "execution_count": 27,
   "metadata": {},
   "outputs": [
    {
     "name": "stdout",
     "output_type": "stream",
     "text": [
      "Loss:  0.009167896583676338\n"
     ]
    }
   ],
   "source": [
    "X = np.linspace(6, 7, num=20)\n",
    "y = 3 * X + 1\n",
    "X, y = X.reshape((20, 1)), y.reshape((20, 1))\n",
    "x_data, y_data = torch.tensor(X).type(torch.Tensor), torch.tensor(y).type(torch.Tensor)\n",
    "loss = nn.MSELoss()\n",
    "y_preds = torch.zeros(20, 1)\n",
    "for i in range(20):\n",
    "    # guide does not require the data\n",
    "    sampled_reg_model = guide(None)\n",
    "    # run the regression model and add prediction to total\n",
    "    y_preds = y_preds + sampled_reg_model(x_data)\n",
    "# take the average of the predictions\n",
    "y_preds = y_preds / 20\n",
    "print (\"Loss: \", loss(y_preds, y_data).item())\n"
   ]
  }
 ],
 "metadata": {
  "kernelspec": {
   "display_name": "Python 3",
   "language": "python",
   "name": "python3"
  },
  "language_info": {
   "codemirror_mode": {
    "name": "ipython",
    "version": 3
   },
   "file_extension": ".py",
   "mimetype": "text/x-python",
   "name": "python",
   "nbconvert_exporter": "python",
   "pygments_lexer": "ipython3",
   "version": "3.5.2"
  }
 },
 "nbformat": 4,
 "nbformat_minor": 2
}
